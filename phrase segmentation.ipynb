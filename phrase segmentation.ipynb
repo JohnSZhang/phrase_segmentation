{
 "cells": [
  {
   "cell_type": "markdown",
   "metadata": {},
   "source": [
    "# Get Data"
   ]
  },
  {
   "cell_type": "code",
   "execution_count": 72,
   "metadata": {
    "collapsed": false
   },
   "outputs": [
    {
     "name": "stdout",
     "output_type": "stream",
     "text": [
      "[nltk_data] Downloading package punkt to\n",
      "[nltk_data]     /Users/BakerStreetBakery/nltk_data...\n",
      "[nltk_data]   Package punkt is already up-to-date!\n"
     ]
    }
   ],
   "source": [
    "import nltk\n",
    "nltk.download('punkt')\n",
    "import math"
   ]
  },
  {
   "cell_type": "code",
   "execution_count": 101,
   "metadata": {
    "collapsed": true
   },
   "outputs": [],
   "source": [
    "fs = open('./data/1.txt', 'r')\n",
    "text = fs.read().decode('utf-8')"
   ]
  },
  {
   "cell_type": "code",
   "execution_count": 102,
   "metadata": {
    "collapsed": false
   },
   "outputs": [
    {
     "data": {
      "text/plain": [
       "u'THE ADVENTURES OF SHERLOCK HOLMES\\n\\nby\\n\\nSIR ARTHUR CONAN DOYLE\\n\\n\\n\\n   I. A Scandal in Bohemia\\n  II. Th'"
      ]
     },
     "execution_count": 102,
     "metadata": {},
     "output_type": "execute_result"
    }
   ],
   "source": [
    "text[:100]"
   ]
  },
  {
   "cell_type": "code",
   "execution_count": 49,
   "metadata": {
    "collapsed": false
   },
   "outputs": [
    {
     "name": "stdout",
     "output_type": "stream",
     "text": [
      "tokens length 125682\n",
      "words length 102881\n"
     ]
    }
   ],
   "source": [
    "tokens = nltk.word_tokenize(text)\n",
    "words = [word.lower() for word in tokens if word.isalpha()]\n",
    "\n",
    "print 'tokens length', len(tokens)\n",
    "print 'words length', len(words)"
   ]
  },
  {
   "cell_type": "code",
   "execution_count": 50,
   "metadata": {
    "collapsed": false
   },
   "outputs": [
    {
     "data": {
      "text/plain": [
       "[u'the',\n",
       " u'adventures',\n",
       " u'of',\n",
       " u'sherlock',\n",
       " u'holmes',\n",
       " u'by',\n",
       " u'sir',\n",
       " u'arthur',\n",
       " u'conan',\n",
       " u'doyle',\n",
       " u'i',\n",
       " u'a',\n",
       " u'scandal',\n",
       " u'in',\n",
       " u'bohemia',\n",
       " u'ii',\n",
       " u'the',\n",
       " u'league',\n",
       " u'iii',\n",
       " u'a',\n",
       " u'case',\n",
       " u'of',\n",
       " u'identity',\n",
       " u'iv',\n",
       " u'the',\n",
       " u'boscombe',\n",
       " u'valley',\n",
       " u'mystery',\n",
       " u'the',\n",
       " u'five',\n",
       " u'orange',\n",
       " u'pips',\n",
       " u'vi',\n",
       " u'the',\n",
       " u'man',\n",
       " u'with',\n",
       " u'the',\n",
       " u'twisted',\n",
       " u'lip',\n",
       " u'vii',\n",
       " u'the',\n",
       " u'adventure',\n",
       " u'of',\n",
       " u'the',\n",
       " u'blue',\n",
       " u'carbuncle',\n",
       " u'viii',\n",
       " u'the',\n",
       " u'adventure',\n",
       " u'of',\n",
       " u'the',\n",
       " u'speckled',\n",
       " u'band',\n",
       " u'ix',\n",
       " u'the',\n",
       " u'adventure',\n",
       " u'of',\n",
       " u'the',\n",
       " u'engineer',\n",
       " u'thumb',\n",
       " u'x',\n",
       " u'the',\n",
       " u'adventure',\n",
       " u'of',\n",
       " u'the',\n",
       " u'noble',\n",
       " u'bachelor',\n",
       " u'xi',\n",
       " u'the',\n",
       " u'adventure',\n",
       " u'of',\n",
       " u'the',\n",
       " u'beryl',\n",
       " u'coronet',\n",
       " u'xii',\n",
       " u'the',\n",
       " u'adventure',\n",
       " u'of',\n",
       " u'the',\n",
       " u'copper',\n",
       " u'beeches',\n",
       " u'adventure',\n",
       " u'i',\n",
       " u'a',\n",
       " u'scandal',\n",
       " u'in',\n",
       " u'bohemia',\n",
       " u'i',\n",
       " u'to',\n",
       " u'sherlock',\n",
       " u'holmes',\n",
       " u'she',\n",
       " u'is',\n",
       " u'always',\n",
       " u'the',\n",
       " u'woman',\n",
       " u'i',\n",
       " u'have',\n",
       " u'seldom',\n",
       " u'heard']"
      ]
     },
     "execution_count": 50,
     "metadata": {},
     "output_type": "execute_result"
    }
   ],
   "source": [
    "words[:100]"
   ]
  },
  {
   "cell_type": "markdown",
   "metadata": {},
   "source": [
    "# Raw Frequency"
   ]
  },
  {
   "cell_type": "code",
   "execution_count": 54,
   "metadata": {
    "collapsed": false
   },
   "outputs": [],
   "source": [
    "min_threshold_tau = 5\n",
    "words_len = len(words)"
   ]
  },
  {
   "cell_type": "code",
   "execution_count": 57,
   "metadata": {
    "collapsed": false
   },
   "outputs": [],
   "source": [
    "f = {}\n",
    "index = {}\n",
    "for i in range(words_len):\n",
    "    word = words[i]\n",
    "    if word not in index.keys():\n",
    "        index[word] = [i]\n",
    "    else:\n",
    "        index[word].append(i)\n"
   ]
  },
  {
   "cell_type": "code",
   "execution_count": 61,
   "metadata": {
    "collapsed": false
   },
   "outputs": [
    {
     "name": "stdout",
     "output_type": "stream",
     "text": [
      "[u'writings', u'yellow', u'four', u'woods', u'hanging', u'pardon', u'granting', u'eligible', u'originality', u'lord']\n",
      "[16100, 29961, 41106, 43059, 55336, 62004, 65537, 66533, 71653, 73134, 77788, 93519, 96441]\n"
     ]
    }
   ],
   "source": [
    "print index.keys()[:10]\n",
    "print index[index.keys()[1]]"
   ]
  },
  {
   "cell_type": "code",
   "execution_count": 65,
   "metadata": {
    "collapsed": false
   },
   "outputs": [
    {
     "name": "stdout",
     "output_type": "stream",
     "text": [
      "[u'dad is', u'city the', u'it absolutely', u'bird then', u'dashed down', u'expect the', u'your whole', u'stairs it', u'now when', u'all quarters']\n",
      "[u'that we were', u'down the sheet', u'you are peterson', u'anyone else yes', u'he took it', u'was no more', u'to a clever', u'me with my', u'would be for', u'said i laughing']\n",
      "[u'would not have his', u'he was in dreadful', u'i believe that the', u'that it is still', u'as i have changed', u'more than once observed', u'sherlock holmes was as', u'rushed into the glade', u'if it were guilty', u'to say that a']\n",
      "[u'i would not have his', u'one of the most determined', u'on the other hand if', u'to me to be a', u'one of the most absolute', u'i do not know is', u'i do not think that', u'seemed to me that i', u'the corner of the mantelpiece', u'one of the most lovely']\n",
      "[u'i beg that you will draw', u'i have no doubt that you', u'from one to the other noting', u'from one to the other pausing', u'i have no doubt that he', u'i have no doubt that we', u'i beg that you will question', u'in the direction of the old', u'i do not think that there', u'i do not think that any']\n",
      "[]\n"
     ]
    }
   ],
   "source": [
    "while len(index.keys()) > 0:\n",
    "    index_p = {}\n",
    "    for j in index.keys():\n",
    "        if len(index[j]) > min_threshold_tau:\n",
    "            f[j] = len(index[j])\n",
    "            for k in index[j]:\n",
    "                if k+1 < words_len:\n",
    "                    new_phrase = j + u' ' + words[k + 1]\n",
    "                    if new_phrase not in index_p.keys():\n",
    "                        index_p[new_phrase] = [k + 1]\n",
    "                    else:\n",
    "                        index_p[new_phrase].append(k + 1)\n",
    "    index = index_p\n",
    "    print index.keys()[:10]"
   ]
  },
  {
   "cell_type": "code",
   "execution_count": 66,
   "metadata": {
    "collapsed": false
   },
   "outputs": [
    {
     "name": "stdout",
     "output_type": "stream",
     "text": [
      "4581\n",
      "[u'to me that', u'could not', u'to me and', u'the second', u'give him', u'until at', u'yellow', u'along the', u'four', u'while he']\n"
     ]
    }
   ],
   "source": [
    "print len(f.keys())\n",
    "print f.keys()[:10]"
   ]
  },
  {
   "cell_type": "markdown",
   "metadata": {},
   "source": [
    "# Quality Score"
   ]
  },
  {
   "cell_type": "code",
   "execution_count": 67,
   "metadata": {
    "collapsed": true
   },
   "outputs": [],
   "source": [
    "phrases = []\n",
    "for w in f.keys():\n",
    "    if len(w.split(u' ')) > 1:\n",
    "        phrases.append(w)"
   ]
  },
  {
   "cell_type": "code",
   "execution_count": 70,
   "metadata": {
    "collapsed": false
   },
   "outputs": [
    {
     "name": "stdout",
     "output_type": "stream",
     "text": [
      "2887\n",
      "[u'to me that', u'could not', u'to me and', u'the second', u'give him', u'until at', u'along the', u'while he', u'night the', u'the hands']\n"
     ]
    }
   ],
   "source": [
    "print len(phrases)\n",
    "print phrases[:10]"
   ]
  },
  {
   "cell_type": "markdown",
   "metadata": {},
   "source": [
    "# Concordance"
   ]
  },
  {
   "cell_type": "code",
   "execution_count": 94,
   "metadata": {
    "collapsed": true
   },
   "outputs": [],
   "source": [
    "PMI = {}\n",
    "PLK = {}"
   ]
  },
  {
   "cell_type": "code",
   "execution_count": 95,
   "metadata": {
    "collapsed": true
   },
   "outputs": [],
   "source": [
    "def prob_u(phrase, f):\n",
    "    words = phrase.split(u' ')\n",
    "    denom = 0\n",
    "    for j in words:\n",
    "        denom += f[word]\n",
    "    return f[phrase]*1. / denom"
   ]
  },
  {
   "cell_type": "code",
   "execution_count": 96,
   "metadata": {
    "collapsed": false
   },
   "outputs": [],
   "source": [
    "def cal_PMI_PLK(phrase, f, pmi, plk):\n",
    "    words = phrase.split(u' ')\n",
    "    prob_whole = prob_u(phrase, f)\n",
    "    if len(words) > 2:\n",
    "        min_mutual_info = float('inf')\n",
    "        best_u_left = None\n",
    "        best_u_right = None\n",
    "        for i in range(1, len(words)):\n",
    "            u_left = u' '.join(words[:i])\n",
    "            u_right = u' '.join(words[i:])\n",
    "            info = math.log(prob_whole * 1. / (prob_u(u_left, f) * prob_u(u_right, f)))\n",
    "            if info < min_mutual_info:\n",
    "                min_mutual_info = info\n",
    "                best_u_left = u_left\n",
    "                best_u_right = u_right\n",
    "    else:\n",
    "        best_u_left = words[0]\n",
    "        best_u_right = words[1]\n",
    "    \n",
    "    pmi[phrase] = math.log(prob_whole * 1. / (prob_u(best_u_left, f) * prob_u(best_u_right, f)))\n",
    "    plk[phrase] = prob_whole * math.log(prob_whole * 1. / (prob_u(best_u_left, f) * prob_u(best_u_right, f)))\n"
   ]
  },
  {
   "cell_type": "code",
   "execution_count": 97,
   "metadata": {
    "collapsed": false
   },
   "outputs": [],
   "source": [
    "for p in phrases:\n",
    "    cal_PMI_PLK(p, f, PMI, PLK)"
   ]
  },
  {
   "cell_type": "code",
   "execution_count": 98,
   "metadata": {
    "collapsed": false
   },
   "outputs": [
    {
     "name": "stdout",
     "output_type": "stream",
     "text": [
      "2887\n",
      "to me that\n",
      "-7.51906999331\n",
      "-4.76207766243\n"
     ]
    }
   ],
   "source": [
    "print len(PMI.keys())\n",
    "print PMI.keys()[0]\n",
    "print PMI[PMI.keys()[0]]\n",
    "print PLK[PLK.keys()[0]]"
   ]
  },
  {
   "cell_type": "markdown",
   "metadata": {},
   "source": [
    "# Informativeness"
   ]
  },
  {
   "cell_type": "code",
   "execution_count": 112,
   "metadata": {
    "collapsed": true
   },
   "outputs": [],
   "source": [
    "IDF_phrase = {}\n",
    "IDF_word = {}\n"
   ]
  },
  {
   "cell_type": "code",
   "execution_count": 117,
   "metadata": {
    "collapsed": false
   },
   "outputs": [
    {
     "name": "stdout",
     "output_type": "stream",
     "text": [
      "the adventures of sherlock holmes\n"
     ]
    }
   ],
   "source": [
    "sentences = text.split('\\n')\n",
    "len(sentences)\n",
    "for i in range(len(sentences)):\n",
    "    sentences[i] = sentences[i].lower()\n",
    "print sentences[0]"
   ]
  },
  {
   "cell_type": "code",
   "execution_count": 118,
   "metadata": {
    "collapsed": false
   },
   "outputs": [],
   "source": [
    "def cal_word_IDF(docs, idf_word):\n",
    "    total_length = len(docs)\n",
    "    for w in words:\n",
    "        count = 0\n",
    "        for d in docs:\n",
    "            if w in d:\n",
    "                count += 1\n",
    "        if count > 0:\n",
    "            idf_word[w] = math.log(total_length * 1. / count)\n",
    "        else:\n",
    "            idf_word[w] = 0\n",
    "        \n",
    "        "
   ]
  },
  {
   "cell_type": "code",
   "execution_count": null,
   "metadata": {
    "collapsed": false
   },
   "outputs": [],
   "source": [
    "cal_word_IDF(sentences, IDF_word)"
   ]
  },
  {
   "cell_type": "code",
   "execution_count": null,
   "metadata": {
    "collapsed": true
   },
   "outputs": [],
   "source": [
    "print IDF_word.keys()[:5]\n",
    "print IDF_word[IDF_word.keys()[0]]"
   ]
  },
  {
   "cell_type": "code",
   "execution_count": null,
   "metadata": {
    "collapsed": true
   },
   "outputs": [],
   "source": []
  }
 ],
 "metadata": {
  "kernelspec": {
   "display_name": "Python 2",
   "language": "python",
   "name": "python2"
  },
  "language_info": {
   "codemirror_mode": {
    "name": "ipython",
    "version": 2
   },
   "file_extension": ".py",
   "mimetype": "text/x-python",
   "name": "python",
   "nbconvert_exporter": "python",
   "pygments_lexer": "ipython2",
   "version": "2.7.11"
  }
 },
 "nbformat": 4,
 "nbformat_minor": 2
}
