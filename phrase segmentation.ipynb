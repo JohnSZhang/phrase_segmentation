{
 "cells": [
  {
   "cell_type": "markdown",
   "metadata": {},
   "source": [
    "# Get Data"
   ]
  },
  {
   "cell_type": "code",
   "execution_count": 292,
   "metadata": {
    "collapsed": false
   },
   "outputs": [
    {
     "name": "stdout",
     "output_type": "stream",
     "text": [
      "[nltk_data] Downloading package punkt to\n",
      "[nltk_data]     /Users/BakerStreetBakery/nltk_data...\n",
      "[nltk_data]   Package punkt is already up-to-date!\n"
     ]
    }
   ],
   "source": [
    "import nltk\n",
    "nltk.download('punkt')\n",
    "import math\n",
    "import pandas as pd"
   ]
  },
  {
   "cell_type": "code",
   "execution_count": 293,
   "metadata": {
    "collapsed": false
   },
   "outputs": [
    {
     "name": "stdout",
     "output_type": "stream",
     "text": [
      "total number of articles 8000\n"
     ]
    }
   ],
   "source": [
    "text = pd.read_csv('./data/Full-Economic-News-DFE-839861.csv')\n",
    "print 'total number of articles', len(text)\n",
    "articles_to_use = 200"
   ]
  },
  {
   "cell_type": "code",
   "execution_count": 326,
   "metadata": {
    "collapsed": false
   },
   "outputs": [
    {
     "name": "stdout",
     "output_type": "stream",
     "text": [
      "['new', 'york', 'yields', 'on', 'most', 'certificates', 'of', 'deposit', 'offered', 'by', 'major', 'banks', 'dropped', 'more', 'than', 'a', 'tenth', 'of', 'a', 'percentage', 'point', 'in', 'the', 'latest', 'week', 'reflecting', 'the', 'overall', 'decline', 'in', 'interest', 'rates', 'on', 'or', 'consumer', 'cds', 'sold', 'directly', 'by', 'banks', 'the', 'average', 'yield', 'on', 'deposits', 'fell', 'to', 'from', 'in', 'the', 'week', 'ended', 'yesterday', 'according', 'to', 'an', 'survey', 'by', 'banxquote', 'money', 'markets', 'a', 'wilmington', 'information', 'service', 'on', 'consumer', 'deposits', 'the', 'average', 'yield', 'sank', 'to', 'from', 'the', 'week', 'before', 'according', 'to', 'banxquote', 'two', 'banks', 'in', 'the', 'banxquote', 'survey', 'citibank', 'in', 'new', 'york', 'and', 'corestates', 'in', 'pennsylvania', 'are', 'paying', 'less', 'than', 'on', 'threemonth', 'cds', 'declines', 'were', 'somewhat', 'smaller', 'on', 'consumer', 'cds', 'which', 'eased', 'to', 'from', 'banxquote', 'said', 'yields', 'on', 'and', 'treasury', 'bills', 'sold', 'at', 'monday', 'auction', 'plummeted', 'more', 'than', 'a', 'fifth', 'of', 'a', 'percentage', 'point', 'from', 'the', 'previous', 'week', 'to', 'and', 'respectively', 'the', 'wall', 'street', 'journal', 'online', 'the', 'morning', 'brief', 'a', 'look', 'at']\n",
      "['NEW YORK -- Yields on most certificates of deposit offered by major banks dropped more than a tenth of a percentage point in the latest week, reflecting the overall decline in short-term interest rates.  On small-denomination, or \"consumer,\" CDs sold directly by banks, the average yield on six-month deposits fell to 5.49% from 5.62% in the week ended yesterday, according to an 18-bank survey by Banxquote Money Markets, a Wilmington, Del., information service.  On three-month \"consumer\" deposits, the average yield sank to 5.29% from 5.42% the week before, according to Banxquote. Two banks in the Banxquote survey, Citibank in New York and CoreStates in Pennsylvania, are paying less than 5% on threemonth small-denomination CDs.  Declines were somewhat smaller on five-year consumer CDs, which eased to 7.37% from 7.45%, Banxquote said.  Yields on three-month and six-month Treasury bills sold at Monday\\'s auction plummeted more than a fifth of a percentage point from the previous week, to 5.46% and 5.63%, respectively.']\n",
      "\n",
      "total number of words: 43155\n"
     ]
    }
   ],
   "source": [
    "articles = [x.replace('</br>', ' ') for x in text['text'][:articles_to_use]]\n",
    "all_articles = []\n",
    "for a in articles:\n",
    "    tokens = nltk.word_tokenize(a)\n",
    "    all_articles.append([word.lower() for word in tokens if word.isalpha()])\n",
    "    \n",
    "total_tokens = nltk.word_tokenize(' '.join(articles))\n",
    "all_words = [word.lower() for word in total_tokens if word.isalpha()]\n",
    "\n",
    "print all_words[:150]\n",
    "print articles[:1]\n",
    "print '\\ntotal number of words:', len(all_words)"
   ]
  },
  {
   "cell_type": "markdown",
   "metadata": {},
   "source": [
    "# Raw Frequency"
   ]
  },
  {
   "cell_type": "code",
   "execution_count": 327,
   "metadata": {
    "collapsed": false
   },
   "outputs": [],
   "source": [
    "min_threshold_tau = 5\n",
    "words_len = len(all_words)"
   ]
  },
  {
   "cell_type": "code",
   "execution_count": 328,
   "metadata": {
    "collapsed": false
   },
   "outputs": [],
   "source": [
    "f = {}\n",
    "index = {}\n",
    "for i in range(words_len):\n",
    "    word = all_words[i]\n",
    "    if word not in index.keys():\n",
    "        index[word] = [i]\n",
    "    else:\n",
    "        index[word].append(i)\n"
   ]
  },
  {
   "cell_type": "code",
   "execution_count": 329,
   "metadata": {
    "collapsed": false
   },
   "outputs": [
    {
     "name": "stdout",
     "output_type": "stream",
     "text": [
      "sample words found: ['four', 'mirage', 'adjustors', 'increase', 'eligible', 'electricity', 'sinking', 'regional', 'bringing', 'scholar']\n",
      "sample frequency: [3073, 3943, 4385, 4544, 4637, 6566, 7259, 9210, 10490, 12659, 14185, 14272, 15537, 17272, 17905, 19344, 19753, 20922, 22247, 23219, 23826, 23871, 26225, 26915, 27180, 29750, 29799, 30016, 30540, 31554, 32068, 32082, 32132, 32959, 34327, 37354, 37420, 38332, 40072, 42306]\n"
     ]
    }
   ],
   "source": [
    "print 'sample words found:', index.keys()[:10]\n",
    "print 'sample frequency:', index[index.keys()[3]]"
   ]
  },
  {
   "cell_type": "code",
   "execution_count": 330,
   "metadata": {
    "collapsed": false
   },
   "outputs": [
    {
     "data": {
      "text/plain": [
       "[12647, 35904, 36094, 37721, 43154]"
      ]
     },
     "execution_count": 330,
     "metadata": {},
     "output_type": "execute_result"
    }
   ],
   "source": [
    "index_allwords = index.copy()\n",
    "index_allwords['risen']"
   ]
  },
  {
   "cell_type": "code",
   "execution_count": 331,
   "metadata": {
    "collapsed": false
   },
   "outputs": [
    {
     "name": "stdout",
     "output_type": "stream",
     "text": [
      "[u'rate raising', u'is nestled', u'settlement mci', u'and pray', u'also was', u'foreign currency', u'index measure', u'open new', u'at georgetown', u'yield that']\n",
      "[u'to be cut', u'a year what', u'from the company', u'known as quantitative', u'whether the high', u'after a good', u'federal reserve from', u'months ago raising', u'the nasdaq composition', u'according to banxquote']\n",
      "[u'over the past three', u'new york the dollar', u'the economy has started', u'the federal reserve has', u'the stock market that', u'a annual rate perhaps', u'one of the quintessential', u'in the dollar value', u'the wall street journal', u'a year earlier royal']\n",
      "[u'is expected to be even', u'new york stock exchange already', u'in the stock market where', u'dow jones industrial average lost', u'in the fourth quarter by', u'the nasdaq composite index eased', u'more than a year and', u'the standard poor index edged', u'the nasdaq composite index gained', u'the nasdaq stock market and']\n",
      "[u'the dow jones industrial average fell', u'the dow jones industrial average retook', u'the new york stock exchange composite', u'the new york stock exchange already', u'the dow jones industrial average closed', u'the dow jones industrial average jumped', u'the dow jones industrial average declined', u'the dow jones industrial average down', u'the dow jones industrial average rose', u'the dow jones industrial average from']\n",
      "[]\n"
     ]
    }
   ],
   "source": [
    "while len(index.keys()) > 0:\n",
    "    index_p = {}\n",
    "    for j in index.keys():\n",
    "        if len(index[j]) >= min_threshold_tau:\n",
    "            f[j] = len(index[j])\n",
    "            for k in index[j]:\n",
    "                if k+1 < words_len:\n",
    "                    new_phrase = j + u' ' + all_words[k + 1]\n",
    "                    if new_phrase not in index_p.keys():\n",
    "                        index_p[new_phrase] = [k + 1]\n",
    "                    else:\n",
    "                        index_p[new_phrase].append(k + 1)\n",
    "    index = index_p\n",
    "    print index.keys()[:10]"
   ]
  },
  {
   "cell_type": "code",
   "execution_count": 332,
   "metadata": {
    "collapsed": false
   },
   "outputs": [
    {
     "name": "stdout",
     "output_type": "stream",
     "text": [
      "total phrases above threshold: 2272\n",
      "sample phrases: ['limited', u'an annual', u'the second', u'the most', u'to and the', u'new york stock exchange', 'four', u'unemployment rate', 'asian', u'the last']\n"
     ]
    }
   ],
   "source": [
    "print 'total phrases above threshold:', len(f.keys())\n",
    "print 'sample phrases:', f.keys()[:10]"
   ]
  },
  {
   "cell_type": "code",
   "execution_count": 333,
   "metadata": {
    "collapsed": false
   },
   "outputs": [
    {
     "data": {
      "text/plain": [
       "['limited',\n",
       " u'an annual',\n",
       " u'the second',\n",
       " u'the most',\n",
       " u'to and the',\n",
       " u'new york stock exchange',\n",
       " 'four',\n",
       " u'unemployment rate',\n",
       " 'asian',\n",
       " u'the last',\n",
       " 'increase',\n",
       " u'the president',\n",
       " 'voted',\n",
       " 'under',\n",
       " u'a seasonally',\n",
       " u'and interest',\n",
       " 'worth',\n",
       " 'rescue',\n",
       " 'rise',\n",
       " u'will make',\n",
       " 'every',\n",
       " 'reforms',\n",
       " 'affect',\n",
       " 'school',\n",
       " u'the number of',\n",
       " 'prize',\n",
       " u'a annual rate',\n",
       " 'companies',\n",
       " 'wednesday',\n",
       " 'red',\n",
       " u'against the',\n",
       " 'bernanke',\n",
       " 'force',\n",
       " 'leaders',\n",
       " u'managing director',\n",
       " 'estimates',\n",
       " 'japanese',\n",
       " u'because of',\n",
       " 'second',\n",
       " 'persuade',\n",
       " 'estimated',\n",
       " u'the recession',\n",
       " 'machines',\n",
       " 'even',\n",
       " u'year earlier',\n",
       " u'is it',\n",
       " 'asia',\n",
       " 'spokesman',\n",
       " u'they had',\n",
       " u'the fall',\n",
       " 'above',\n",
       " 'new',\n",
       " 'net',\n",
       " 'ever',\n",
       " 'told',\n",
       " u'a gain',\n",
       " u'and it',\n",
       " u'lower interest',\n",
       " 'whose',\n",
       " u'in many',\n",
       " 'never',\n",
       " u'or to and',\n",
       " 'here',\n",
       " 'reported',\n",
       " 'protection',\n",
       " 'china',\n",
       " u'and in',\n",
       " u'compared to',\n",
       " u'starting to',\n",
       " 'auction',\n",
       " 'study',\n",
       " 'climbed',\n",
       " 'reports',\n",
       " 'credit',\n",
       " 'analysts',\n",
       " 'changes',\n",
       " 'campaign',\n",
       " 'reagan',\n",
       " 'highly',\n",
       " 'total',\n",
       " 'unit',\n",
       " 'would',\n",
       " u'said it',\n",
       " 'negative',\n",
       " 'call',\n",
       " 'until',\n",
       " u'of in',\n",
       " 'composite',\n",
       " 'yahoo',\n",
       " u'nasdaq stock',\n",
       " u'as investors',\n",
       " u'with an',\n",
       " 'hold',\n",
       " 'me',\n",
       " 'rights',\n",
       " 'work',\n",
       " u'the financial markets',\n",
       " u'dow jones industrial average',\n",
       " u'or a',\n",
       " u'first time',\n",
       " u'central bank',\n",
       " u'number of companies',\n",
       " 'my',\n",
       " u'economy the',\n",
       " 'give',\n",
       " 'household',\n",
       " 'india',\n",
       " u'can be',\n",
       " 'currency',\n",
       " u'the dollar',\n",
       " u'in the second',\n",
       " 'want',\n",
       " u'to start',\n",
       " u'of the year',\n",
       " 'risk',\n",
       " 'end',\n",
       " 'recovery',\n",
       " 'thing',\n",
       " 'provide',\n",
       " u'to keep',\n",
       " 'far',\n",
       " u'nasdaq composite index',\n",
       " 'widespread',\n",
       " u'has been',\n",
       " u'have to',\n",
       " 'after',\n",
       " 'modest',\n",
       " 'president',\n",
       " 'law',\n",
       " u'which has',\n",
       " 'attempt',\n",
       " 'third',\n",
       " 'amid',\n",
       " 'things',\n",
       " u'point of',\n",
       " 'democratic',\n",
       " 'order',\n",
       " 'operations',\n",
       " u'in november',\n",
       " 'over',\n",
       " 'fall',\n",
       " 'expects',\n",
       " u'it would',\n",
       " u'rate cut',\n",
       " 'london',\n",
       " 'japan',\n",
       " u'as many',\n",
       " 'mayor',\n",
       " 'before',\n",
       " u'the treasury',\n",
       " u'capital markets',\n",
       " 'imf',\n",
       " 'personal',\n",
       " 'fix',\n",
       " 'expectations',\n",
       " 'better',\n",
       " 'ims',\n",
       " 'production',\n",
       " u'most of',\n",
       " 'weeks',\n",
       " 'then',\n",
       " 'them',\n",
       " u'is one of the',\n",
       " u'the issue',\n",
       " u'to do',\n",
       " 'weakness',\n",
       " 'nobel',\n",
       " 'they',\n",
       " 'silver',\n",
       " 'bank',\n",
       " u'the university of',\n",
       " 'represents',\n",
       " u'is likely to',\n",
       " 'cftc',\n",
       " u'a lot',\n",
       " 'each',\n",
       " u'the central bank',\n",
       " u'is to',\n",
       " 'bond',\n",
       " u'or to',\n",
       " 'financial',\n",
       " u'that have',\n",
       " u'at its',\n",
       " 'series',\n",
       " u'york stock',\n",
       " 'used',\n",
       " 'trading',\n",
       " u'on thursday',\n",
       " u'have a',\n",
       " u'the nasdaq stock market',\n",
       " u'they have',\n",
       " 'laid',\n",
       " u'of dollars',\n",
       " u'to reduce',\n",
       " 'got',\n",
       " 'strategist',\n",
       " 'independence',\n",
       " u'could be',\n",
       " 'turning',\n",
       " u'raising the',\n",
       " 'given',\n",
       " u'chairman of the',\n",
       " 'standard',\n",
       " 'estimate',\n",
       " u'the third',\n",
       " u'federal reserve board',\n",
       " 'created',\n",
       " 'starts',\n",
       " 'days',\n",
       " u'to find',\n",
       " u'banks to',\n",
       " u'this year',\n",
       " u'index fell',\n",
       " 'medicaid',\n",
       " 'already',\n",
       " 'economists',\n",
       " u'before the',\n",
       " 'primary',\n",
       " u'a strong',\n",
       " u'year to',\n",
       " 'another',\n",
       " u'the global',\n",
       " 'electronic',\n",
       " 'households',\n",
       " 'service',\n",
       " u'how the',\n",
       " 'top',\n",
       " u'in the latest',\n",
       " 'needed',\n",
       " u'was a',\n",
       " 'rates',\n",
       " 'too',\n",
       " u'such as',\n",
       " 'percentage',\n",
       " 'john',\n",
       " u'the nasdaq',\n",
       " u'to take',\n",
       " 'ceiling',\n",
       " u'of a',\n",
       " u'million in',\n",
       " 'took',\n",
       " u'an average',\n",
       " 'somewhat',\n",
       " u'a little',\n",
       " u'poor index',\n",
       " u'rates that',\n",
       " u'and many',\n",
       " 'target',\n",
       " 'showed',\n",
       " 'likely',\n",
       " u'which is',\n",
       " 'project',\n",
       " 'street',\n",
       " u'share of',\n",
       " 'minus',\n",
       " 'acquisition',\n",
       " u'the year',\n",
       " 'boston',\n",
       " u'price increases',\n",
       " u'during the',\n",
       " u'that are',\n",
       " 'seen',\n",
       " 'seem',\n",
       " 'relatively',\n",
       " u'most of the',\n",
       " 'strength',\n",
       " u'ben bernanke',\n",
       " u'policy makers',\n",
       " 'indexes',\n",
       " 'materials',\n",
       " u'that was',\n",
       " u'and some',\n",
       " u'when the',\n",
       " u'a larger',\n",
       " 'though',\n",
       " u'interest rate',\n",
       " u'want to',\n",
       " u'the period',\n",
       " u'jones industrial',\n",
       " 'germany',\n",
       " u'price index',\n",
       " 'consumers',\n",
       " 'medical',\n",
       " 'flow',\n",
       " u'lower interest rates',\n",
       " u'to pay',\n",
       " u'we are',\n",
       " 'competitors',\n",
       " 'points',\n",
       " 'tech',\n",
       " u'increase in',\n",
       " u'the economy has',\n",
       " 'consumer',\n",
       " 'dow',\n",
       " 'came',\n",
       " 'reserve',\n",
       " u'if you',\n",
       " u'economy has',\n",
       " u'ago the',\n",
       " 'ending',\n",
       " 'gauge',\n",
       " u'is up',\n",
       " 'just',\n",
       " 'yen',\n",
       " u'of bonds',\n",
       " u'demand for',\n",
       " u'interest rates',\n",
       " 'bush',\n",
       " 'announce',\n",
       " u'rose in',\n",
       " 'do',\n",
       " 'exports',\n",
       " 'despite',\n",
       " 'report',\n",
       " u'that means',\n",
       " 'volatility',\n",
       " u'at least',\n",
       " 'bay',\n",
       " 'bad',\n",
       " u'royal bank',\n",
       " 'release',\n",
       " u'into a',\n",
       " u'million or',\n",
       " u'surge in',\n",
       " 'secretary',\n",
       " u'issue of',\n",
       " 'testing',\n",
       " u'when it',\n",
       " 'result',\n",
       " u'year but',\n",
       " u'last year',\n",
       " 'best',\n",
       " u'came in',\n",
       " 'said',\n",
       " u'bonds and',\n",
       " 'away',\n",
       " u'to in',\n",
       " 'pressures',\n",
       " u'years the',\n",
       " u'the fourth',\n",
       " u'budget deficit',\n",
       " u'after a',\n",
       " u'the new york',\n",
       " 'we',\n",
       " 'terms',\n",
       " 'wo',\n",
       " 'weak',\n",
       " 'however',\n",
       " 'southeast',\n",
       " 'harvard',\n",
       " 'recent',\n",
       " u'the commerce department',\n",
       " 'news',\n",
       " 'debt',\n",
       " 'country',\n",
       " 'against',\n",
       " 'planned',\n",
       " u'president of',\n",
       " u'the index',\n",
       " 'appeared',\n",
       " 'had',\n",
       " u'and they',\n",
       " u'a result',\n",
       " u'of their',\n",
       " u'the canadian',\n",
       " 'trust',\n",
       " 'conference',\n",
       " 'jobless',\n",
       " 'basis',\n",
       " 'holdings',\n",
       " 'three',\n",
       " 'been',\n",
       " 'quickly',\n",
       " 'commission',\n",
       " 'much',\n",
       " 'interest',\n",
       " u'it was a',\n",
       " 'expected',\n",
       " u'the bill',\n",
       " u'the biggest',\n",
       " 'life',\n",
       " 'families',\n",
       " 'mci',\n",
       " u'for the first time',\n",
       " 'republicans',\n",
       " 'lift',\n",
       " u'the federal',\n",
       " u'they do',\n",
       " u'all the',\n",
       " 'commerce',\n",
       " 'has',\n",
       " u'the amount',\n",
       " 'economies',\n",
       " 'air',\n",
       " 'near',\n",
       " 'teachers',\n",
       " 'aid',\n",
       " u'the dow jones industrial',\n",
       " 'employees',\n",
       " 'seven',\n",
       " 'economics',\n",
       " 'mexico',\n",
       " 'is',\n",
       " 'it',\n",
       " 'experts',\n",
       " 'in',\n",
       " 'if',\n",
       " 'grown',\n",
       " u'some of the',\n",
       " 'suggest',\n",
       " 'make',\n",
       " 'several',\n",
       " 'european',\n",
       " 'independent',\n",
       " u'nasdaq stock market',\n",
       " 'hand',\n",
       " u'people are',\n",
       " u'risk of',\n",
       " 'opportunity',\n",
       " 'kept',\n",
       " 'programs',\n",
       " u'the stock',\n",
       " 'warburg',\n",
       " 'savings',\n",
       " 'client',\n",
       " u'end of',\n",
       " 'claims',\n",
       " 'the',\n",
       " 'corporate',\n",
       " 'investments',\n",
       " 'left',\n",
       " 'seasonal',\n",
       " 'proposed',\n",
       " 'unemployment',\n",
       " u'think of',\n",
       " 'purchasing',\n",
       " 'human',\n",
       " 'yet',\n",
       " 'previous',\n",
       " 'buyers',\n",
       " u'now is',\n",
       " 'ease',\n",
       " u'increase the',\n",
       " 'royal',\n",
       " u'have the',\n",
       " 'board',\n",
       " 'save',\n",
       " 'gave',\n",
       " u'rate in',\n",
       " u'economist at',\n",
       " 'possible',\n",
       " u'of the world',\n",
       " u'about of',\n",
       " u'that a',\n",
       " 'advanced',\n",
       " 'desire',\n",
       " u'the end of',\n",
       " 'specific',\n",
       " u'price of',\n",
       " u'their bills',\n",
       " 'security',\n",
       " u'on a',\n",
       " u'reserve board',\n",
       " u'york the',\n",
       " 'right',\n",
       " 'old',\n",
       " 'deal',\n",
       " 'people',\n",
       " u'vice president',\n",
       " 'offer',\n",
       " 'election',\n",
       " 'securities',\n",
       " u'that many',\n",
       " 'for',\n",
       " u'a major',\n",
       " 'comments',\n",
       " 'everything',\n",
       " 'trustees',\n",
       " u'the standard poor',\n",
       " u'if they',\n",
       " u'in fact',\n",
       " u'may be',\n",
       " 'core',\n",
       " u'look at',\n",
       " 'deflation',\n",
       " 'discount',\n",
       " 'corp',\n",
       " u'stock exchange',\n",
       " 'losing',\n",
       " u'following the',\n",
       " 'attacks',\n",
       " u'in the market',\n",
       " 'dollars',\n",
       " 'months',\n",
       " u'in september',\n",
       " 'efforts',\n",
       " 'slightly',\n",
       " 'consulting',\n",
       " 'managers',\n",
       " u'it had',\n",
       " 'civil',\n",
       " u'to more',\n",
       " 'down',\n",
       " u'it has',\n",
       " u'on its',\n",
       " u'continued to',\n",
       " u'in washington',\n",
       " u'but not',\n",
       " 'support',\n",
       " 'initial',\n",
       " 'legislation',\n",
       " 'payment',\n",
       " u'in interest rates',\n",
       " u'whether the',\n",
       " 'way',\n",
       " u'for a',\n",
       " u'at a annual',\n",
       " 'was',\n",
       " 'war',\n",
       " 'lowest',\n",
       " 'head',\n",
       " u'the consensus',\n",
       " 'form',\n",
       " 'manufacturers',\n",
       " u'of them',\n",
       " u'from an',\n",
       " 'differences',\n",
       " 'ford',\n",
       " u'the pace',\n",
       " 'lows',\n",
       " u'prices on',\n",
       " 'analyst',\n",
       " u'familiar with',\n",
       " u'have also',\n",
       " 'tell',\n",
       " u'to billion',\n",
       " u'likely to',\n",
       " u'prices of',\n",
       " u'new york stock',\n",
       " 'evidence',\n",
       " u'the only',\n",
       " u'on the nasdaq',\n",
       " 'no',\n",
       " 'stake',\n",
       " 'when',\n",
       " u'the financial',\n",
       " u'with its',\n",
       " u'the white house',\n",
       " 'test',\n",
       " u'out of',\n",
       " 'welcome',\n",
       " 'fell',\n",
       " u'insurance companies',\n",
       " 'weekend',\n",
       " 'billion',\n",
       " u'but it is',\n",
       " u'the nasdaq composite',\n",
       " 'faster',\n",
       " 'filing',\n",
       " 'vietnam',\n",
       " u'third quarter',\n",
       " 'time',\n",
       " 'push',\n",
       " 'serious',\n",
       " 'profits',\n",
       " u'the national',\n",
       " u'second quarter',\n",
       " 'global',\n",
       " 'focus',\n",
       " 'manager',\n",
       " 'battle',\n",
       " u'and a',\n",
       " 'william',\n",
       " u'million or cents a',\n",
       " u'the university',\n",
       " u'a increase',\n",
       " u'investors are',\n",
       " 'finally',\n",
       " 'weakening',\n",
       " 'marks',\n",
       " u'value of',\n",
       " 'advantage',\n",
       " 'ultrashort',\n",
       " u'cut in',\n",
       " u'fed officials',\n",
       " u'is still',\n",
       " u'financial crisis',\n",
       " 'level',\n",
       " 'did',\n",
       " 'standards',\n",
       " 'p',\n",
       " u'treasury secretary',\n",
       " u'show that',\n",
       " u'york stock exchange',\n",
       " u'up from',\n",
       " 'slower',\n",
       " u'stocks rose',\n",
       " 'sign',\n",
       " 'cost',\n",
       " u'the cftc',\n",
       " u'it is',\n",
       " u'in the stock',\n",
       " u'than of',\n",
       " u'a annual',\n",
       " 'shares',\n",
       " 'current',\n",
       " u'oil prices',\n",
       " u'are likely to',\n",
       " 'international',\n",
       " 'falling',\n",
       " 'boost',\n",
       " u'chairman ben bernanke',\n",
       " 'transportation',\n",
       " u'is expected to',\n",
       " u'concern that',\n",
       " u'in its',\n",
       " 'agreement',\n",
       " u'by a',\n",
       " u'million or cents',\n",
       " 'alone',\n",
       " 'change',\n",
       " 'canadian',\n",
       " u'economy is',\n",
       " u'are likely',\n",
       " u'the imf',\n",
       " u'a lot of',\n",
       " u'capital gains',\n",
       " 'extra',\n",
       " 'lending',\n",
       " u'is that',\n",
       " u'across the',\n",
       " u'according to',\n",
       " u'or that',\n",
       " u'there is no',\n",
       " 'crisis',\n",
       " 'market',\n",
       " u'as the economy',\n",
       " u'the other',\n",
       " 'working',\n",
       " u'familiar with the',\n",
       " 'positive',\n",
       " u'goods and',\n",
       " u'rate the',\n",
       " 'francs',\n",
       " u'support for',\n",
       " u'but that',\n",
       " u'points to',\n",
       " 'today',\n",
       " 'commissioner',\n",
       " 'sessions',\n",
       " u'of million',\n",
       " u'producer price',\n",
       " u'friday the',\n",
       " u'the financial crisis',\n",
       " 'cautious',\n",
       " 'cases',\n",
       " 'effort',\n",
       " 'states',\n",
       " 'valued',\n",
       " u'economic crisis',\n",
       " u'in new york the',\n",
       " u'to million',\n",
       " u'the new',\n",
       " u'that the federal reserve',\n",
       " u'in part',\n",
       " 'can',\n",
       " 'growing',\n",
       " 'making',\n",
       " u'in new york',\n",
       " u'at the end of',\n",
       " 'citizens',\n",
       " u'in which',\n",
       " 'december',\n",
       " u'index of',\n",
       " 'dropped',\n",
       " u'traded at',\n",
       " u'or the',\n",
       " u'retail sales',\n",
       " u'a good',\n",
       " u'from a',\n",
       " 'means',\n",
       " u'the terms',\n",
       " u'down from last',\n",
       " u'outlook for',\n",
       " 'fourth',\n",
       " u'to the',\n",
       " 'economy',\n",
       " 'product',\n",
       " 'information',\n",
       " 'critics',\n",
       " 'use',\n",
       " 'mac',\n",
       " u'is expected',\n",
       " 'improving',\n",
       " 'such',\n",
       " 'data',\n",
       " 'grow',\n",
       " 'man',\n",
       " u'that the',\n",
       " 'natural',\n",
       " 'adelphia',\n",
       " u'the economy',\n",
       " 'futures',\n",
       " 'borrowing',\n",
       " 'so',\n",
       " 'deposit',\n",
       " u'annual rate of',\n",
       " u'decline in',\n",
       " u'led by',\n",
       " u'the session',\n",
       " 'raised',\n",
       " 'years',\n",
       " 'hiring',\n",
       " u'the highest',\n",
       " 'cuts',\n",
       " 'argued',\n",
       " u'on friday',\n",
       " 'still',\n",
       " u'believe the',\n",
       " 'group',\n",
       " 'how',\n",
       " u'at a annual rate',\n",
       " u'investment in',\n",
       " u'consumer credit',\n",
       " 'policy',\n",
       " 'main',\n",
       " 'decades',\n",
       " 'texas',\n",
       " u'is likely',\n",
       " u'morgan stanley',\n",
       " u'in late',\n",
       " 'finance',\n",
       " u'the nation',\n",
       " 'nation',\n",
       " 'records',\n",
       " 'half',\n",
       " 'not',\n",
       " 'now',\n",
       " 'maintaining',\n",
       " 'term',\n",
       " 'name',\n",
       " u'the unemployment',\n",
       " 'january',\n",
       " 'times',\n",
       " 'drop',\n",
       " u'and so',\n",
       " 'quarter',\n",
       " u'the project',\n",
       " 'revised',\n",
       " u'the past three',\n",
       " 'year',\n",
       " 'happen',\n",
       " 'morning',\n",
       " u'of america',\n",
       " 'canada',\n",
       " 'factors',\n",
       " 'profit',\n",
       " u'number of',\n",
       " 'looking',\n",
       " 'investigation',\n",
       " 'internet',\n",
       " 'shows',\n",
       " 'earlier',\n",
       " 'million',\n",
       " 'cut',\n",
       " u'the deal',\n",
       " 'care',\n",
       " 'advance',\n",
       " u'the economic',\n",
       " 'turn',\n",
       " u'points or to',\n",
       " 'place',\n",
       " 'think',\n",
       " 'first',\n",
       " u'that is',\n",
       " u'rose to',\n",
       " u'that it',\n",
       " 'revenue',\n",
       " u'shot up',\n",
       " 'bargaining',\n",
       " u'on the',\n",
       " 'one',\n",
       " u'the outlook',\n",
       " 'americans',\n",
       " 'directly',\n",
       " 'vote',\n",
       " u'have been',\n",
       " 'open',\n",
       " u'that in',\n",
       " 'city',\n",
       " 'little',\n",
       " u'a decline in',\n",
       " u'the and',\n",
       " 'trillion',\n",
       " u'a month',\n",
       " 'anyone',\n",
       " 'indicate',\n",
       " 'white',\n",
       " 'frame',\n",
       " u'the end',\n",
       " 'mostly',\n",
       " 'that',\n",
       " 'season',\n",
       " 'alan',\n",
       " u'was at',\n",
       " 'released',\n",
       " u'the recovery',\n",
       " 'than',\n",
       " 'wide',\n",
       " 'procter',\n",
       " u'a professor',\n",
       " 'future',\n",
       " 'venture',\n",
       " 'were',\n",
       " 'and',\n",
       " u'mortgage rates',\n",
       " u'said in a',\n",
       " 'san',\n",
       " 'investors',\n",
       " u'the study',\n",
       " u'three years',\n",
       " 'turned',\n",
       " 'argument',\n",
       " 'say',\n",
       " u'the same',\n",
       " u'or cents a',\n",
       " 'saw',\n",
       " 'any',\n",
       " u'concerns about',\n",
       " u'as much as',\n",
       " 'offering',\n",
       " 'northview',\n",
       " 'equipment',\n",
       " u'the bush administration',\n",
       " 'potential',\n",
       " 'take',\n",
       " 'online',\n",
       " 'performance',\n",
       " u'close to',\n",
       " 'begin',\n",
       " u'this past',\n",
       " 'price',\n",
       " u'market the',\n",
       " 'paid',\n",
       " u'is expected to be',\n",
       " 'america',\n",
       " u'the late',\n",
       " u'economy and',\n",
       " u'and other',\n",
       " 'especially',\n",
       " 'average',\n",
       " 'later',\n",
       " 'steady',\n",
       " 'sale',\n",
       " 'federal',\n",
       " u'end of the',\n",
       " u'signs of',\n",
       " 'senior',\n",
       " 'typically',\n",
       " 'liquidity',\n",
       " 'shot',\n",
       " 'show',\n",
       " 'german',\n",
       " u'the quarter',\n",
       " 'aggressive',\n",
       " u'a big',\n",
       " 'slow',\n",
       " u'the nasdaq composite index',\n",
       " 'office',\n",
       " 'behind',\n",
       " 'only',\n",
       " 'going',\n",
       " 'treasury',\n",
       " u'rates in',\n",
       " 'get',\n",
       " 'contracts',\n",
       " 'assistant',\n",
       " u'social security',\n",
       " u'that they',\n",
       " 'employers',\n",
       " u'under the',\n",
       " 'nearly',\n",
       " u'about a',\n",
       " 'prime',\n",
       " u'a share',\n",
       " u'this was',\n",
       " 'yield',\n",
       " 'worried',\n",
       " u'dollar and',\n",
       " u'a sharp',\n",
       " 'worries',\n",
       " 'where',\n",
       " u'closed at',\n",
       " u'annual rate',\n",
       " u'according to a',\n",
       " 'stanley',\n",
       " 'concern',\n",
       " 'mortgage',\n",
       " 'managing',\n",
       " 'jumped',\n",
       " u'rather than',\n",
       " 'forecast',\n",
       " u'because the',\n",
       " u'the nasdaq stock',\n",
       " 'enough',\n",
       " 'bureau',\n",
       " 'between',\n",
       " 'import',\n",
       " 'reading',\n",
       " 'across',\n",
       " 'jobs',\n",
       " 'august',\n",
       " u'the first quarter',\n",
       " 'come',\n",
       " u'as a result',\n",
       " 'many',\n",
       " 'region',\n",
       " 'recessions',\n",
       " 'contract',\n",
       " 's',\n",
       " u'labor department',\n",
       " 'traded',\n",
       " 'comes',\n",
       " 'among',\n",
       " u'for the second',\n",
       " 'period',\n",
       " 'considering',\n",
       " u'it was',\n",
       " 'west',\n",
       " 'airlines',\n",
       " 'mark',\n",
       " u'are the',\n",
       " 'wants',\n",
       " u'that the economy is',\n",
       " 'direction',\n",
       " 'sectors',\n",
       " 'offered',\n",
       " u'companies and',\n",
       " u'in what',\n",
       " u'days of',\n",
       " 'former',\n",
       " 'those',\n",
       " 'case',\n",
       " 'these',\n",
       " u'be the',\n",
       " 'cash',\n",
       " 'policies',\n",
       " 'situation',\n",
       " 'margin',\n",
       " 'trader',\n",
       " u'imports of',\n",
       " 'eventually',\n",
       " 'according',\n",
       " 'middle',\n",
       " u'or at',\n",
       " 'technology',\n",
       " 'different',\n",
       " 'author',\n",
       " 'pay',\n",
       " u'she says',\n",
       " 'same',\n",
       " u'fourth quarter',\n",
       " u'than billion',\n",
       " u'in december',\n",
       " u'decline in the',\n",
       " 'struggling',\n",
       " u'the number',\n",
       " 'week',\n",
       " 'oil',\n",
       " 'edged',\n",
       " u'about to',\n",
       " 'singapore',\n",
       " u'billion in the',\n",
       " 'director',\n",
       " u'is one',\n",
       " 'anticipated',\n",
       " u'be a',\n",
       " u'months of',\n",
       " u'the end of the',\n",
       " u'director of',\n",
       " u'the market is',\n",
       " 'roughly',\n",
       " 'mortgages',\n",
       " 'without',\n",
       " u'become a',\n",
       " u'department said',\n",
       " u'about the',\n",
       " 'easing',\n",
       " 'laboratories',\n",
       " u'to be the',\n",
       " 'gdp',\n",
       " 'gates',\n",
       " u'but there',\n",
       " 'being',\n",
       " 'money',\n",
       " 'weekly',\n",
       " u'of the',\n",
       " 'thinking',\n",
       " 'rose',\n",
       " 'seems',\n",
       " ...]"
      ]
     },
     "execution_count": 333,
     "metadata": {},
     "output_type": "execute_result"
    }
   ],
   "source": [
    "f.keys()"
   ]
  },
  {
   "cell_type": "markdown",
   "metadata": {},
   "source": [
    "# Quality Score"
   ]
  },
  {
   "cell_type": "code",
   "execution_count": 334,
   "metadata": {
    "collapsed": true
   },
   "outputs": [],
   "source": [
    "phrases = []\n",
    "for w in f.keys():\n",
    "    if len(w.split(u' ')) > 1:\n",
    "        phrases.append(w)"
   ]
  },
  {
   "cell_type": "code",
   "execution_count": 335,
   "metadata": {
    "collapsed": false
   },
   "outputs": [
    {
     "name": "stdout",
     "output_type": "stream",
     "text": [
      "total 2 words and above phrases: 972\n",
      "sample: [u'an annual', u'the second', u'the most', u'to and the', u'new york stock exchange', u'unemployment rate', u'the last', u'the president', u'a seasonally', u'and interest']\n"
     ]
    }
   ],
   "source": [
    "print 'total 2 words and above phrases:', len(phrases)\n",
    "print 'sample:', phrases[:10]"
   ]
  },
  {
   "cell_type": "markdown",
   "metadata": {},
   "source": [
    "# Concordance"
   ]
  },
  {
   "cell_type": "code",
   "execution_count": 336,
   "metadata": {
    "collapsed": true
   },
   "outputs": [],
   "source": [
    "PMI = {}\n",
    "PLK = {}"
   ]
  },
  {
   "cell_type": "code",
   "execution_count": 337,
   "metadata": {
    "collapsed": true
   },
   "outputs": [],
   "source": [
    "def prob_u(phrase, f):\n",
    "    words = phrase.split(u' ')\n",
    "    denom = 0\n",
    "    for j in words:\n",
    "        denom += f[word]\n",
    "    return f[phrase]*1. / denom"
   ]
  },
  {
   "cell_type": "code",
   "execution_count": 338,
   "metadata": {
    "collapsed": false
   },
   "outputs": [],
   "source": [
    "def cal_PMI_PLK(phrase, f, pmi, plk):\n",
    "    words = phrase.split(u' ')\n",
    "    prob_whole = prob_u(phrase, f)\n",
    "    if len(words) > 2:\n",
    "        min_mutual_info = float('inf')\n",
    "        best_u_left = None\n",
    "        best_u_right = None\n",
    "        for i in range(1, len(words)):\n",
    "            u_left = u' '.join(words[:i])\n",
    "            u_right = u' '.join(words[i:])\n",
    "            info = math.log(prob_whole * 1. / (prob_u(u_left, f) * prob_u(u_right, f)))\n",
    "            if info < min_mutual_info:\n",
    "                min_mutual_info = info\n",
    "                best_u_left = u_left\n",
    "                best_u_right = u_right\n",
    "    else:\n",
    "        best_u_left = words[0]\n",
    "        best_u_right = words[1]\n",
    "    \n",
    "    pmi[phrase] = math.log(prob_whole * 1. / (prob_u(best_u_left, f) * prob_u(best_u_right, f)))\n",
    "    plk[phrase] = prob_whole * math.log(prob_whole * 1. / (prob_u(best_u_left, f) * prob_u(best_u_right, f)))\n"
   ]
  },
  {
   "cell_type": "code",
   "execution_count": 339,
   "metadata": {
    "collapsed": false
   },
   "outputs": [],
   "source": [
    "for p in phrases:\n",
    "    cal_PMI_PLK(p, f, PMI, PLK)"
   ]
  },
  {
   "cell_type": "code",
   "execution_count": 340,
   "metadata": {
    "collapsed": false
   },
   "outputs": [
    {
     "name": "stdout",
     "output_type": "stream",
     "text": [
      "972\n",
      "[u'last month', u'a record', u'to say', u'second quarter', u'an annual', u'to have', u'the second', u'the most', u'the wall street', u'unemployment rate for']\n",
      "-4.31255287835\n",
      "-11.2126374837\n"
     ]
    }
   ],
   "source": [
    "print len(PMI.keys())\n",
    "print PMI.keys()[:10]\n",
    "print PMI[PMI.keys()[0]]\n",
    "print PLK[PLK.keys()[0]]"
   ]
  },
  {
   "cell_type": "markdown",
   "metadata": {},
   "source": [
    "# Informativeness"
   ]
  },
  {
   "cell_type": "code",
   "execution_count": 341,
   "metadata": {
    "collapsed": true
   },
   "outputs": [],
   "source": [
    "IDF_phrase = {}\n",
    "IDF_word = {}\n"
   ]
  },
  {
   "cell_type": "code",
   "execution_count": 342,
   "metadata": {
    "collapsed": false
   },
   "outputs": [
    {
     "name": "stdout",
     "output_type": "stream",
     "text": [
      "total articles: 200\n"
     ]
    }
   ],
   "source": [
    "print 'total articles:', len(articles)\n"
   ]
  },
  {
   "cell_type": "code",
   "execution_count": 343,
   "metadata": {
    "collapsed": false
   },
   "outputs": [],
   "source": [
    "def cal_word_IDF(docs, idf_word):\n",
    "    total_length = len(docs)\n",
    "    for w in all_words:\n",
    "        count = 0\n",
    "        for d in docs:\n",
    "            if w in d:\n",
    "                count += 1\n",
    "        if count > 0:\n",
    "            idf_word[w] = math.log(total_length * 1. / count)\n",
    "        else:\n",
    "            idf_word[w] = 0\n",
    "        \n",
    "        "
   ]
  },
  {
   "cell_type": "code",
   "execution_count": 344,
   "metadata": {
    "collapsed": false
   },
   "outputs": [],
   "source": [
    "cal_word_IDF(all_articles, IDF_word)"
   ]
  },
  {
   "cell_type": "code",
   "execution_count": 345,
   "metadata": {
    "collapsed": false
   },
   "outputs": [
    {
     "name": "stdout",
     "output_type": "stream",
     "text": [
      "['four', 'mirage', 'adjustors', 'increase', 'eligible']\n",
      "2.20727491319\n",
      "5.29831736655\n",
      "5.29831736655\n",
      "1.83258146375\n",
      "4.19970507788\n"
     ]
    }
   ],
   "source": [
    "print IDF_word.keys()[:5]\n",
    "index = IDF_word.keys()[:5]\n",
    "for i in index:\n",
    "    print IDF_word[i]"
   ]
  },
  {
   "cell_type": "code",
   "execution_count": 346,
   "metadata": {
    "collapsed": true
   },
   "outputs": [],
   "source": [
    "def cal_phrase_IDF(phrases, word_idf, phrase_idf):\n",
    "    for p in phrases:\n",
    "        idf = 0\n",
    "        words = p.split(u' ')\n",
    "        for w in words:\n",
    "            idf += word_idf[w]\n",
    "        phrase_idf[p] = idf * 1. / len(words)"
   ]
  },
  {
   "cell_type": "code",
   "execution_count": 347,
   "metadata": {
    "collapsed": false
   },
   "outputs": [],
   "source": [
    "cal_phrase_IDF(phrases, IDF_word, IDF_phrase)"
   ]
  },
  {
   "cell_type": "code",
   "execution_count": 349,
   "metadata": {
    "collapsed": false
   },
   "outputs": [
    {
     "name": "stdout",
     "output_type": "stream",
     "text": [
      "[u'last month', u'a record', u'to say', u'second quarter', u'an annual', u'to have', u'the second', u'the most', u'the wall street', u'unemployment rate for']\n",
      "1.39233065174\n",
      "1.22699477358\n",
      "0.939721899936\n",
      "2.08669388478\n",
      "1.46403681254\n",
      "0.301950401523\n",
      "1.10614372751\n",
      "0.70575480513\n",
      "1.58894551262\n",
      "1.36355710562\n"
     ]
    }
   ],
   "source": [
    "print IDF_phrase.keys()[:10]\n",
    "for p in IDF_phrase.keys()[:10]:\n",
    "    print IDF_phrase[p]"
   ]
  },
  {
   "cell_type": "markdown",
   "metadata": {},
   "source": [
    "# Train Classifier"
   ]
  },
  {
   "cell_type": "code",
   "execution_count": 350,
   "metadata": {
    "collapsed": false
   },
   "outputs": [],
   "source": [
    "data = {}\n",
    "for p in phrases:\n",
    "    data[p] = []\n",
    "    data[p].append(float(PMI[p]))\n",
    "    data[p].append(float(PLK[p]))\n",
    "    data[p].append(float(IDF_phrase[p]))\n"
   ]
  },
  {
   "cell_type": "code",
   "execution_count": 351,
   "metadata": {
    "collapsed": true
   },
   "outputs": [],
   "source": [
    "import numpy as np\n",
    "import sklearn"
   ]
  },
  {
   "cell_type": "code",
   "execution_count": 352,
   "metadata": {
    "collapsed": false
   },
   "outputs": [
    {
     "name": "stdout",
     "output_type": "stream",
     "text": [
      "[u'last month', u'a record', u'to say', u'second quarter', u'an annual', u'to have', u'the second', u'the most', u'the wall street', u'unemployment rate for', u'to give', u'unemployment rate', u'chairman of', u'in what', u'the last', u'trade deficit', u'companies that', u'million or cents a', u'continues to', u'a increase', u'meanwhile the', u'said in', u'sign that', u'said it', u'the president', u'of in', u'ability to', u'is no', u'a seasonally', u'and interest', u'dow jones industrial average', u'much of', u'bush administration', u'years ago', u'warburg pincus', u'will make', u'funds and', u'fed officials', u'they were', u'is still', u'financial crisis', u'more than of', u'than a', u'fed chairman', u'over the', u'to and', u'treasury secretary', u'show that', u'york a', u'against the', u'york stock exchange', u'up from', u'wall street', u'due to', u'the global', u'or to the', u'stocks rose', u'when he', u'year according', u'declined to', u'of all', u'the cftc', u'that are', u'the recession', u'about of', u'the period', u'the first time', u'program to', u'the law', u'used to', u'in the stock', u'economy has', u'or a', u'like the', u'they had', u'of some', u'first time', u'the fall', u'are likely to', u'that the federal', u'and a', u'chairman ben bernanke', u'past three', u'surge in', u'such a', u'and it', u'lower interest', u'in many', u'rise in', u'concern that', u'or to and', u'in its', u'by a', u'the average', u'the index', u'to a', u'million or cents', u'and with', u'up their', u'and in', u'the government', u'compared to', u'this is', u'starting to', u'below the', u'more than a', u'to people', u'economy is', u'the fed has', u'a billion', u'the market', u'professor at', u'when a', u'are likely', u'some of the', u'new york the', u'a sign', u'rate of', u'the white', u'capital gains', u'amount of', u'yield on', u'if we', u'now is', u'is that', u'agreed to', u'chairman ben', u'according to', u'reserve board', u'inflation is', u'of it', u'there is no', u'up to', u'as the economy', u'as much', u'the other', u'from in', u'following the', u'familiar with the', u'year and', u'goods and', u'to more', u'up the', u'at a annual', u'said the', u'rate the', u'economic recovery', u'support for', u'but that', u'whether the', u'as of', u'year end', u'but it', u'there are', u'increase of', u'of million', u'bond prices', u'producer price', u'half of', u'friday the', u'the financial crisis', u'nasdaq stock', u'as investors', u'years old', u'the national', u'central bankers', u'had been', u'new york a', u'can be', u'efforts to', u'the first', u'how much', u'economic crisis', u'in new york the', u'the new', u'chief economist', u'the financial markets', u'that the federal reserve', u'the country', u'a annual', u'in part', u'would have', u'central bank', u'gains have', u'stock prices', u'are expected', u'in new york', u'the imf', u'a lot of', u'at the end of', u'of million or', u'the deficit', u'is not', u'in which', u'energy prices', u'bank of', u'index of', u'to million', u'interest rates and', u'the dollar', u'in the second', u'about million', u'to start', u'traded at', u'of the year', u'or the', u'retail sales', u'a good', u'from the', u'from a', u'to keep', u'the standard', u'the terms', u'down from last', u'outlook for', u'is likely', u'the bond', u'that the market', u'to the', u'to make', u'nasdaq composite index', u'the dow', u'quarter and', u'of america', u'the bank', u'have to', u'four years', u'that the economy', u'a year', u'end of', u'rose points', u'is expected', u'to help', u'business investment', u'as well', u'of economic', u'that the', u'better than', u'the rise', u'billion in', u'the start', u'the economy and', u'the economy', u'vice president of', u'the two', u'cut in', u'annual rate of', u'decline in', u'mutual funds', u'in november', u'led by', u'analysts said', u'the session', u'the unemployment rate', u'to keep the', u'the markets', u'plan to', u'it would', u'rate cut', u'dollar and', u'fell to', u'on friday', u'as many', u'the standard poor index', u'believe the', u'markets and', u'the treasury', u'although the', u'capital markets', u'the mortgage', u'enough to', u'part of', u'the decline', u'keep the', u'up in', u'the dow jones', u'the yen', u'at a annual rate', u'investment in', u'at the end', u'consumer credit', u'continue to', u'most of', u'the number of', u'for the first', u'but they', u'morgan stanley', u'mechanism design', u'is one of the', u'in late', u'the issue', u'to do', u'the nation', u'in december', u'a few', u'known as', u'stock market', u'weakness in', u'to go', u'but there', u'only a', u'nasdaq composite', u'the budget', u'the university of', u'an index', u'to see', u'declines in', u'japan and', u'the unemployment', u'years the', u'in may', u'a lot', u'the senate', u'is to', u'or to', u'it could', u'industrial average', u'at its', u'with the', u'york stock', u'of these', u'the past three', u'over the next', u'natural gas', u'the state', u'cents or to', u'of the most', u'on thursday', u'have a', u'the nasdaq stock market', u'effort to', u'number of', u'they have', u'of dollars', u'to reduce', u'this past', u'compared with a', u's p', u'could be', u'one of', u'up for', u'raising the', u'chairman of the', u'professor of', u'and analysts', u'the new york stock exchange', u'the deal', u'past two', u'the region', u'the city', u'yesterday as', u'with an', u'at billion', u'federal reserve board', u'next month', u'reduce the', u'economy the', u'to find', u'the group', u'monetary policy', u'points or to', u'banks to', u'we have', u'this year', u'the and', u'in annual', u'of government', u'that is', u'their own', u'that it', u'of the world', u'shot up', u'the second quarter', u'before the', u'on the', u'since the', u'a strong', u'the outlook', u'the central bank', u'year to', u'that have', u'have been', u'and other', u'that in', u'to push', u'as they', u'a drop', u'or more', u'a decline in', u'index fell', u'traders said', u'a month', u'in the latest', u'to get', u'was a', u'part of a', u'managing director', u'such as', u'rates that', u'the nasdaq', u'to take', u'the risk', u'few weeks', u'the end', u'of a', u'ben bernanke', u'at a', u'million in', u'of the new', u'was at', u'than in', u'an average', u'drop in', u'in august', u'a little', u'poor index', u'the economy is', u'a new', u'was the', u'he said', u'and many', u'a professor', u'commerce department', u'year ago', u'which is', u'as the', u'the dow jones industrial average', u'the past', u'share of', u'in the first quarter', u'purchasing managers', u'to continue', u'mortgage rates', u'said in a', u'annual rate', u'the study', u'the year', u'it was a', u'price increases', u'during the', u'the trade', u'down from', u'a gain', u'year according to', u'the same', u'he says', u'and for', u'concerns about', u'most of the', u'as much as', u'in the first', u'dollar was', u'policy makers', u'the bush administration', u'have the', u'that was', u'and some', u'been a', u'when the', u'the end of', u'of canada', u'the public', u'a larger', u'are expected to', u'interest rate', u'want to', u'look at', u'university of', u'jones industrial', u'the job', u'last week', u'the federal reserve', u'as a', u'point of', u'the overall', u'the late', u'economy and', u'year the', u'prices on', u'more than', u'the japanese', u'pace of', u'prices of', u'increase the', u'lower interest rates', u'to pay', u'we are', u'companies to', u'the day', u'end of the', u'increase in', u'companies and', u'in june', u'the economy has', u'has a', u'fed has', u'by the', u'if you', u'than of', u'a basis', u'the labor', u'the bush', u'investors are', u'value of', u'food and', u'ago the', u'has become', u'a seasonally adjusted', u'should have', u'many investors', u'two years', u'of and', u'it is', u'the recovery', u'is up', u'the nasdaq composite index', u'the art', u'the current', u'demand for', u'interest rates', u'the economy the', u'oil prices', u'even as', u'rose in', u'to billion in', u'it a', u'the employment', u'the program', u'in one', u'social security', u'that they', u'for each', u'under the', u'about a', u'that means', u'the next', u'is one of', u'a share', u'a number of', u'at least', u'this was', u'the highest', u'the american', u'the jobless', u'royal bank', u'a sharp', u'and energy', u'cents a share', u'into a', u'recession in', u'in the past', u'the economic', u'is at', u'that some', u'issue of', u'some of', u'the report', u'when it', u'year but', u'valued at', u'according to a', u'or cents a', u'last year', u'to their', u'that would', u'is expected to', u'came in', u'bonds and', u'signs of', u'rather than', u'to in', u'the nasdaq stock', u'it also', u'the fourth', u'rates in', u'budget deficit', u'after a', u'the new york', u'market and', u'because it', u'a annual rate', u'increased to', u'between the', u'in their', u'like it', u'the first quarter', u'wall street journal', u'standard poor', u'in april', u'food and energy', u'fell points', u'around the', u'back in', u'as a result', u'mci worldcom', u'in the fourth', u'compared with', u'a more', u'time in', u'she says', u'index rose', u'decline in the', u'has to', u'president of', u'of million or cents', u'to be', u'the market is', u'chief economist at', u'become a', u'confidence in', u'washington the', u'the largest', u'for the second', u'data the', u'the fourth quarter', u'them to', u'and they', u'a result', u'of their', u'the canadian', u'to increase', u'the time', u'of an', u'it was', u'and the', u'the results', u'street journal', u'three months', u'there were', u'first quarter', u'three years', u'are the', u'the world', u'a rise', u'try to', u'to buy', u'the bill', u'the biggest', u'for the', u'one of the', u'for the first time', u'of new', u'head of', u'by the federal', u'trying to', u'to and the', u'the federal', u'they do', u'days of', u'from last', u'composite index', u'seasonally adjusted', u'all the', u'we had', u'the amount', u'through the', u'prices and', u'be the', u'because of', u'into the', u'is it', u'the house', u'has been', u'imports of', u'the gains', u'since april', u'that we', u'or cents', u'is about', u'was up', u'year earlier', u'or at', u'number of companies', u'this week', u'there a', u'the new york stock', u'plans to', u'a high', u'give the', u'federal reserve', u'however the', u'of million or cents a', u'after the', u'of about', u'and more', u'should be', u'the s p', u'than billion', u'series of', u'is likely to', u'and has', u'the number', u'labor department', u'but the', u'a series', u'in new', u'about to', u'the bond market', u'nasdaq stock market', u'billion in the', u'of business', u'points or', u'the third', u'people are', u'is one', u'of money', u'new york', u'that he', u'how the', u'be a', u'months of', u'inflation and', u'the end of the', u'director of', u'the stock', u'the is', u'a large', u'the fed', u'the dollar was', u'to billion in the', u'department said', u'about the', u'over the past', u'that its', u'to be the', u'the commerce department', u'the big', u'the past two', u'even if', u'think of', u'new york stock exchange', u'is the', u'to from', u'this past week', u'market is', u'with a', u'months ago', u'fourth quarter', u'of the', u'even more', u'in when', u'kind of', u'the euro', u'in the fourth quarter', u'the money', u'ahead of', u'risk of', u'of bonds', u'rate for', u'as one', u'recent years', u'consumer prices', u'standard poor index', u'the dow jones industrial', u'rate in', u'in the stock market', u'the economic recovery', u'economist at', u'is a', u'said that', u'the potential', u'cents a', u'the way', u'the numbers', u'in the', u'the housing', u'that a', u'rates to', u'the talks', u'in the economy', u'more than a year', u'credit markets', u'likely to be', u'attempt to', u'a level', u'the wall', u'less than', u'opportunity to', u'the final', u'all of', u'for the year', u'much as', u'price of', u'their bills', u'the quarter', u'on a', u'or that', u'york the', u'financial markets', u'in this', u'would be', u'in the dollar', u'vice president', u'of its', u'of them', u'which has', u'to raise', u'the previous', u'the central', u'have also', u'cents or', u'lot of', u'the s', u'a series of', u'next year', u'the white house', u'it will', u'in october', u'will be', u'of the economy', u'that many', u'and so', u'a major', u'may have', u'the university', u'rates and', u'to an', u'the standard poor', u'at to', u'in fact', u'time to', u'may be', u'market the', u'the news', u'because the', u'than the', u'is that the', u'the week', u'if they', u'instead of', u'million or', u'on tuesday', u'with billion', u'according to the', u'stock exchange', u'across the', u'who are', u'for their', u'the commerce', u'in an', u'of people', u'to its', u'might be', u'late wednesday', u'while the', u'in the market', u'and inflation', u'in interest', u'a rate', u'market that', u'in september', u'of this', u'and that', u'a year earlier', u'in more than', u'it had', u'to think', u'is expected to be', u'close to', u'it has', u'on its', u'the rate', u'continued to', u'in washington', u'freddie mac', u'expected to be', u'past week', u'sign of', u'a decline', u'going to', u'to investors', u'but not', u'rose to', u'pressure on', u'in interest rates', u'the currency', u'bond market', u'for a', u'and interest rates', u'on their', u'a number', u'percentage point', u'dow jones industrial', u'in recent years', u'many economists', u'the consensus', u'surveyed by', u'expected to', u'a bit', u'from an', u'the federal reserve board', u'in more', u'in a', u'the pace', u'the company', u'the labor department', u'price index', u'a big', u'jones industrial average', u'the latest', u'employment report', u'than a year', u'familiar with', u'the trade deficit', u'there is', u'all that', u'to allow', u'in july', u'in recent', u'in and', u'higher interest', u'closed at', u'points to', u'in any', u'labor market', u'they are', u'the reagan', u'white house', u'to billion', u'likely to', u'that the economy is', u'new york stock', u'the board', u'the crash', u'the only', u'health care', u'economic growth', u'cut in the', u'on the nasdaq', u'said a', u'a recession', u'the financial', u'with its', u'in january', u'prices are', u'the securities', u'the recent', u'the wall street journal', u'the firm', u'out of', u'an ounce', u'terms of', u'and new', u'its own', u'of companies', u'quarter of', u'of the fed', u'dow jones', u'for more', u'a year ago', u'more than billion', u'at the', u'and investors', u'insurance companies', u'central banks', u'the stock market', u'but it is', u'the nasdaq composite', u'the price', u'in some', u'the department', u'for the week', u'if the', u'a million', u'sales and', u'that has', u'the project', u'third quarter', u'the mark', u'growth in', u'the capital', u'if it']\n"
     ]
    }
   ],
   "source": [
    "print(data.keys())"
   ]
  },
  {
   "cell_type": "code",
   "execution_count": 226,
   "metadata": {
    "collapsed": true
   },
   "outputs": [],
   "source": [
    "qual_phrase = ['copper beeches', \n",
    "              'lord simon', \n",
    "              'sherlock holmes',\n",
    "              'colonel lysander', \n",
    "              'the salesman', \n",
    "              'king of bohemia', \n",
    "              'colonel lysander stark', \n",
    "              'briony lodge', \n",
    "              'the opium den', \n",
    "              'blue carbuncle']\n",
    "rand_phrase = ['his shoulders',\n",
    "              'and down the',\n",
    "              'able to',\n",
    "              'the latter', \n",
    "              'it is not',\n",
    "              'likely to', \n",
    "              'back in his',\n",
    "              'the fire',\n",
    "              'holmes he',\n",
    "              'i came']"
   ]
  },
  {
   "cell_type": "code",
   "execution_count": 227,
   "metadata": {
    "collapsed": false
   },
   "outputs": [],
   "source": [
    "train_data = []\n",
    "for j in qual_phrase:\n",
    "        train_data.append([1] + data[j])\n",
    "\n",
    "for j in rand_phrase:\n",
    "        train_data.append([0] + data[j])\n",
    "train_data = np.array(train_data)\n",
    "np.random.shuffle(train_data)"
   ]
  },
  {
   "cell_type": "code",
   "execution_count": 228,
   "metadata": {
    "collapsed": false
   },
   "outputs": [
    {
     "name": "stdout",
     "output_type": "stream",
     "text": [
      "(20, 4)\n",
      "(20, 3)\n",
      "(20,)\n"
     ]
    }
   ],
   "source": [
    "print(train_data.shape)\n",
    "X = train_data[:, 1:]\n",
    "y = train_data[:, 0]\n",
    "print X.shape\n",
    "print y.shape"
   ]
  },
  {
   "cell_type": "code",
   "execution_count": 229,
   "metadata": {
    "collapsed": false
   },
   "outputs": [
    {
     "name": "stdout",
     "output_type": "stream",
     "text": [
      "[[ -7.51906999  -4.76207766   1.64791864]\n",
      " [ -6.40361495 -20.81174859   3.22771053]\n",
      " [ -8.8068583   -2.64205749   1.4247228 ]\n",
      " ..., \n",
      " [ -8.73966096  -3.93284743   2.51982076]\n",
      " [ -8.29781255  -2.76593752   1.24317565]\n",
      " [-10.30228477  -3.60579967   2.55602012]]\n"
     ]
    }
   ],
   "source": [
    "test_data = []\n",
    "test_phrases = []\n",
    "for p in phrases:\n",
    "    if p not in qual_phrase and p not in rand_phrase:\n",
    "        test_data.append(data[p])\n",
    "        test_phrases.append(p)\n",
    "test_data = np.array(test_data)\n",
    "print test_data"
   ]
  },
  {
   "cell_type": "code",
   "execution_count": 232,
   "metadata": {
    "collapsed": false
   },
   "outputs": [
    {
     "data": {
      "text/plain": [
       "RandomForestClassifier(bootstrap=True, class_weight=None, criterion='gini',\n",
       "            max_depth=2, max_features='auto', max_leaf_nodes=None,\n",
       "            min_impurity_split=1e-07, min_samples_leaf=1,\n",
       "            min_samples_split=2, min_weight_fraction_leaf=0.0,\n",
       "            n_estimators=5, n_jobs=1, oob_score=False, random_state=0,\n",
       "            verbose=0, warm_start=False)"
      ]
     },
     "execution_count": 232,
     "metadata": {},
     "output_type": "execute_result"
    }
   ],
   "source": [
    "from sklearn.ensemble import RandomForestClassifier\n",
    "clf = RandomForestClassifier(max_depth=2, n_estimators=5,random_state=0)\n",
    "clf.fit(X, y)"
   ]
  },
  {
   "cell_type": "code",
   "execution_count": 233,
   "metadata": {
    "collapsed": false
   },
   "outputs": [
    {
     "name": "stdout",
     "output_type": "stream",
     "text": [
      "[[u'to me that', 1.0], [u'could not', 1.0], [u'to me and', 1.0], [u'the second', 1.0], [u'give him', 0.36666666666666664], [u'until at', 1.0], [u'along the', 1.0], [u'while he', 1.0], [u'night the', 1.0], [u'the hands', 1.0], [u'and took', 1.0], [u'from the first', 1.0], [u'you see', 1.0], [u'the last', 1.0], [u'that he might', 1.0], [u'the kitchen', 0.36666666666666664], [u'and of', 1.0], [u'was about to', 1.0], [u'the edge', 1.0], [u'which i was', 1.0], [u'i have already', 1.0], [u'to prevent', 0.36666666666666664], [u'the neighbourhood', 0.36666666666666664], [u'i glanced', 1.0], [u'him that', 1.0], [u'me and', 1.0], [u'not know', 1.0], [u'but a', 1.0], [u'which she', 1.0], [u'a day', 1.0], [u'however and', 1.0], [u'as i was', 1.0], [u'took the', 1.0], [u'used to', 1.0], [u'which you have', 1.0], [u'a man of', 1.0], [u'and with the', 1.0], [u'i tell you', 1.0], [u'a cry of', 1.0], [u'nothing to', 1.0], [u'up and down', 0.59999999999999998], [u'had some', 1.0], [u'it is that', 1.0], [u'of it i', 1.0], [u'i have the', 1.0], [u'is absolutely', 1.0], [u'became a', 1.0], [u'against the', 1.0], [u'the village', 0.36666666666666664], [u'the room', 1.0], [u'the copper beeches', 0.36666666666666664], [u'had better', 0.36666666666666664], [u'not more', 1.0], [u'i had a', 1.0], [u'day i', 1.0], [u'upon which', 1.0], [u'from her', 1.0], [u'it we', 1.0], [u'up his', 1.0], [u'the least', 1.0], [u'it came', 1.0], [u'in his hand and', 1.0], [u'over with', 1.0], [u'my name', 1.0], [u'we got', 1.0], [u'did it', 1.0], [u'they had', 1.0], [u'not been', 1.0], [u'something in', 1.0], [u'in his hands', 1.0], [u'until he', 1.0], [u'and it', 1.0], [u'an opinion', 0.80000000000000004], [u'sir george burnwell', 0.0], [u'was only a', 1.0], [u'of importance', 0.36666666666666664], [u'one who', 1.0], [u'to a', 1.0], [u'and if', 1.0], [u'and in', 1.0], [u'house i', 1.0], [u'it seemed', 1.0], [u'george burnwell', 0.0], [u'to meet', 0.46666666666666662], [u'know what', 1.0], [u'well then', 1.0], [u'room and', 1.0], [u'the other was', 1.0], [u'in his chair', 1.0], [u'am a', 1.0], [u'i fear that', 1.0], [u'him but', 1.0], [u'now it', 1.0], [u'i have no doubt that', 1.0], [u'for his', 1.0], [u'house of', 1.0], [u'you should', 1.0], [u'now if', 1.0], [u'the street', 1.0], [u'appears to be', 0.59999999999999998], [u'i fear', 1.0], [u'for him', 1.0], [u'in front of', 1.0], [u'now in', 1.0], [u'then it', 1.0], [u'save a', 1.0], [u'at work', 1.0], [u'some small', 0.36666666666666664], [u'sure that', 1.0], [u'that even', 1.0], [u'and then suddenly', 1.0], [u'i thought it', 1.0], [u'have made', 1.0], [u'a note', 1.0], [u'endeavoured to', 0.36666666666666664], [u'name of', 1.0], [u'we went', 1.0], [u'the direction', 1.0], [u'you think', 1.0], [u'saw that', 1.0], [u'see you', 1.0], [u'the letter', 1.0], [u'i have had', 1.0], [u'if he', 1.0], [u'i felt that', 1.0], [u'was to', 1.0], [u'wish to', 1.0], [u'eyes and', 1.0], [u'it that', 1.0], [u'the dark', 1.0], [u'at that', 1.0], [u'a very', 1.0], [u'had he', 1.0], [u'i hope', 1.0], [u'miss hunter', 0.066666666666666666], [u'that he would', 1.0], [u'wish you', 1.0], [u'be in', 1.0], [u'cut off', 0.26666666666666666], [u'your father', 0.36666666666666664], [u'led to', 1.0], [u'to keep', 1.0], [u'fire and', 1.0], [u'out from', 1.0], [u'going to', 1.0], [u'is that', 1.0], [u'you go', 1.0], [u'have got', 0.36666666666666664], [u'of the same', 1.0], [u'his face', 1.0], [u'my way', 1.0], [u'in the house', 1.0], [u'have to', 1.0], [u'had listened', 0.36666666666666664], [u'him the', 1.0], [u'her father', 1.0], [u'you understand', 1.0], [u'you can', 1.0], [u'anything of', 1.0], [u'which has', 1.0], [u'the sight of', 1.0], [u'line of', 1.0], [u'for this', 1.0], [u'your own', 1.0], [u'in our', 1.0], [u'me at the', 1.0], [u'wife and', 1.0], [u'he is', 1.0], [u'in which i', 1.0], [u'he will be', 1.0], [u'heard the', 1.0], [u'few minutes', 0.066666666666666666], [u'it to the', 1.0], [u'her hand', 1.0], [u'point of', 1.0], [u'either side', 0.066666666666666666], [u'know the', 1.0], [u'of the case', 1.0], [u'pocket and', 1.0], [u'was so', 1.0], [u'by the way', 1.0], [u'he continued', 1.0], [u'he should', 1.0], [u'that is', 1.0], [u'it would', 1.0], [u'are not', 1.0], [u'he was a', 1.0], [u'if this', 1.0], [u'take it', 1.0], [u'with their', 1.0], [u'i presume', 1.0], [u'my mind', 0.36666666666666664], [u'i have been', 1.0], [u'was quite', 1.0], [u'told you', 1.0], [u'refused to', 0.36666666666666664], [u'above the', 1.0], [u'holmes laughing', 0.36666666666666664], [u'into an', 1.0], [u'from my', 1.0], [u'shrugged his', 0.36666666666666664], [u'which i', 1.0], [u'to do', 1.0], [u'the afternoon', 1.0], [u'which a', 1.0], [u'head and', 1.0], [u'the man who', 1.0], [u'man was', 1.0], [u'is always', 1.0], [u'in an instant', 1.0], [u'may have been', 1.0], [u'he that', 1.0], [u'i found myself', 1.0], [u'light of', 1.0], [u'where the', 1.0], [u'all the other', 1.0], [u'save the', 1.0], [u'think that i', 1.0], [u'it was not', 1.0], [u'at the time of', 1.0], [u'ah yes', 0.26666666666666666], [u'over this', 1.0], [u'is to', 1.0], [u'edge of', 1.0], [u'had passed', 0.36666666666666664], [u'lady and', 1.0], [u'trust that', 0.36666666666666664], [u'will leave', 0.36666666666666664], [u'cab and', 1.0], [u'than i', 1.0], [u'have been', 1.0], [u'and he', 1.0], [u'over the', 1.0], [u'is he', 1.0], [u'that our', 1.0], [u'the lascar', 0.36666666666666664], [u'have a', 1.0], [u'a light', 1.0], [u'they have', 1.0], [u'his eyes', 1.0], [u'think watson', 0.36666666666666664], [u'and it is', 1.0], [u'that you should', 1.0], [u'the bottom', 0.36666666666666664], [u'could be', 1.0], [u'about that', 1.0], [u'could not help', 0.20000000000000001], [u'to have a', 1.0], [u'the face', 1.0], [u'whom i', 1.0], [u'the more', 1.0], [u'assure you', 0.36666666666666664], [u'with a very', 1.0], [u'the city', 1.0], [u'no more', 1.0], [u'so there', 1.0], [u'i thought', 1.0], [u'to find', 1.0], [u'so we', 1.0], [u'the wind', 1.0], [u'when i came', 0.59999999999999998], [u'of you', 1.0], [u'he and', 1.0], [u'the night', 1.0], [u'holmes was', 1.0], [u'i trust', 1.0], [u'piece of', 0.36666666666666664], [u'just now', 0.36666666666666664], [u'the small', 1.0], [u'a strong', 1.0], [u'saw a', 1.0], [u'with him', 1.0], [u'i am afraid that', 1.0], [u'see that', 1.0], [u'at any', 1.0], [u'i sat', 1.0], [u'such an', 1.0], [u'i saw', 1.0], [u'morning i', 1.0], [u'i say', 1.0], [u'i started', 1.0], [u'was a', 1.0], [u'it might', 1.0], [u'which will', 1.0], [u'such as', 1.0], [u'that i should', 1.0], [u'i should be', 1.0], [u'me it', 1.0], [u'of a', 1.0], [u'part of', 1.0], [u'that this', 1.0], [u'i understand', 1.0], [u'sorry to', 0.36666666666666664], [u'the police', 1.0], [u'me if', 1.0], [u'my sister', 0.36666666666666664], [u'me he', 1.0], [u'a little', 1.0], [u'me in', 1.0], [u'the left', 1.0], [u'all about', 1.0], [u'was i', 1.0], [u'us in', 1.0], [u'endeavouring to', 0.36666666666666664], [u'that is the', 1.0], [u'his own', 1.0], [u'to you i', 1.0], [u'was nothing', 1.0], [u'i wish', 1.0], [u'day before', 0.36666666666666664], [u'him for he', 1.0], [u'a week', 1.0], [u'of our', 1.0], [u'on the contrary', 0.59999999999999998], [u'the loss of', 1.0], [u'a single', 1.0], [u'as much', 1.0], [u'i would not have', 1.0], [u'the young man', 1.0], [u'put on', 1.0], [u'shall be', 1.0], [u'my own', 1.0], [u'i must', 1.0], [u'just a little', 1.0], [u'which it', 1.0], [u'in the evening', 1.0], [u'she cried', 0.36666666666666664], [u'do you know', 1.0], [u'being a', 1.0], [u'that was', 1.0], [u'when the', 1.0], [u'for some time', 0.80000000000000004], [u'at a', 1.0], [u'i met him', 1.0], [u'it did', 1.0], [u'want to', 1.0], [u'that we are', 1.0], [u'then he', 1.0], [u'door i', 1.0], [u'out upon the', 1.0], [u'a ring', 1.0], [u'which had', 1.0], [u'the singular', 1.0], [u'on monday', 0.26666666666666666], [u'i took the', 1.0], [u'i think that', 1.0], [u'i am very', 1.0], [u'for me', 1.0], [u'brixton road', 0.0], [u'was never', 1.0], [u'the business', 1.0], [u'well i', 1.0], [u'the king of', 1.0], [u'we are', 1.0], [u'to make', 1.0], [u'am sorry', 0.066666666666666666], [u'his manner', 0.36666666666666664], [u'has a', 1.0], [u'caused by', 0.26666666666666666], [u'the corner', 1.0], [u'if you', 1.0], [u'that you are', 1.0], [u'the fact that', 1.0], [u'i may', 1.0], [u'believe that', 0.36666666666666664], [u'and all', 1.0], [u'within the', 1.0], [u'and with a', 1.0], [u'been so', 1.0], [u'he would', 1.0], [u'it would be', 1.0], [u'the colour', 1.0], [u'i came down', 1.0], [u'what the', 1.0], [u'the adventure of', 1.0], [u'i have told', 1.0], [u'came down', 0.36666666666666664], [u'the window and', 1.0], [u'speak to', 1.0], [u'the body', 1.0], [u'looking at', 1.0], [u'quite so', 1.0], [u'it a', 1.0], [u'can you', 1.0], [u'the lamp', 1.0], [u'his room', 1.0], [u'it i', 1.0], [u'the great', 1.0], [u'so that i', 1.0], [u'is his', 1.0], [u'have no doubt that', 1.0], [u'her at', 1.0], [u'he could', 1.0], [u'my word', 1.0], [u'it is true', 1.0], [u'out into the', 1.0], [u'his hands', 1.0], [u'the nature of the', 1.0], [u'you have been', 1.0], [u'excuse me', 0.36666666666666664], [u'to us', 1.0], [u'a quiet', 1.0], [u'which led', 1.0], [u'man who', 1.0], [u'as though', 1.0], [u'if you are', 1.0], [u'us and', 1.0], [u'us with', 1.0], [u'you be', 1.0], [u'miss stoper', 0.0], [u'i am so', 1.0], [u'of those', 1.0], [u'that your', 1.0], [u'and when i', 1.0], [u'each other', 0.26666666666666666], [u'come in', 1.0], [u'that we shall', 1.0], [u'my face', 1.0], [u'came in', 1.0], [u'been in', 1.0], [u'the door of', 1.0], [u'had an', 1.0], [u'had nothing', 1.0], [u'attempt to', 0.36666666666666664], [u'i not', 1.0], [u'an american', 0.26666666666666666], [u'for a few', 1.0], [u'in order to', 1.0], [u'miss mary', 0.066666666666666666], [u'the only', 1.0], [u'that i had', 1.0], [u'to them', 1.0], [u'to it', 1.0], [u'after a', 1.0], [u'now he', 1.0], [u'let us', 0.59999999999999998], [u'a matter', 1.0], [u'when i have', 1.0], [u'than to', 1.0], [u'young mccarthy', 0.066666666666666666], [u'the name', 1.0], [u'right and', 1.0], [u'way i', 1.0], [u'he but', 1.0], [u'which led to', 1.0], [u'the gloom', 0.36666666666666664], [u'over to', 1.0], [u'and have', 1.0], [u'anyone else', 0.0], [u'my friend and', 1.0], [u'in every', 1.0], [u'towards the', 1.0], [u'was just', 1.0], [u'in the room', 1.0], [u'i remarked', 1.0], [u'two days', 0.26666666666666666], [u'any other', 0.46666666666666662], [u'it is so', 1.0], [u'spite of', 0.36666666666666664], [u'i suppose that', 1.0], [u'we drove', 0.36666666666666664], [u'name is', 1.0], [u'we sat', 1.0], [u'opium den', 0.0], [u'she said', 1.0], [u'that you will', 1.0], [u'the window', 1.0], [u'very much', 0.36666666666666664], [u'it up', 1.0], [u'have had a', 1.0], [u'and they', 1.0], [u'the inside', 0.59999999999999998], [u'of being', 1.0], [u'i do not think that', 0.80000000000000004], [u'to be found', 1.0], [u'of their', 1.0], [u'and then', 1.0], [u'on the other', 1.0], [u'top of', 1.0], [u'i could see', 1.0], [u'me no', 1.0], [u'the cellar', 1.0], [u'no no', 1.0], [u'the impression', 1.0], [u'i could see that', 1.0], [u'shrugged his shoulders', 0.0], [u'the study', 0.36666666666666664], [u'the words', 1.0], [u'among the', 1.0], [u'or so', 1.0], [u'coronet in', 1.0], [u'watson said', 0.36666666666666664], [u'you did', 1.0], [u'with his head', 1.0], [u'and on', 1.0], [u'remember that', 0.36666666666666664], [u'down into', 0.46666666666666662], [u'shall i', 1.0], [u'the maid', 1.0], [u'all the', 1.0], [u'friend and', 1.0], [u'hatherley farm', 0.0], [u'is in', 1.0], [u'half a', 1.0], [u'the initials', 0.36666666666666664], [u'sprang out', 0.36666666666666664], [u'as well', 1.0], [u'miss mary sutherland', 0.0], [u'then i shall', 1.0], [u'might have', 1.0], [u'the same', 1.0], [u'one and', 1.0], [u'am afraid that', 1.0], [u'then i asked', 1.0], [u'and looking', 1.0], [u'out upon', 1.0], [u'she had been', 1.0], [u'do you not', 1.0], [u'me said', 1.0], [u'found in', 1.0], [u'came from', 1.0], [u'sort of', 0.36666666666666664], [u'up a', 1.0], [u'have some', 1.0], [u'and turned', 1.0], [u'not i', 1.0], [u'connected with', 0.36666666666666664], [u'seeing that', 0.36666666666666664], [u'so that it', 1.0], [u'a sheet', 1.0], [u'was a very', 1.0], [u'all is', 1.0], [u'pounds a year', 0.20000000000000001], [u'a few minutes', 1.0], [u'is quite', 1.0], [u'he will', 1.0], [u'would go', 1.0], [u'it and', 1.0], [u'be of', 1.0], [u'have given', 0.36666666666666664], [u'it is a little', 1.0], [u'the child', 1.0], [u'to whom', 1.0], [u'holmes said', 1.0], [u'by his', 1.0], [u'there would be', 1.0], [u'the morning', 1.0], [u'not be', 1.0], [u'end of', 1.0], [u'so but', 1.0], [u'and i was', 1.0], [u'it into', 1.0], [u'one to', 1.0], [u'up at', 1.0], [u'than once', 0.36666666666666664], [u'think of', 1.0], [u'off to', 1.0], [u'them and', 1.0], [u'to think that', 1.0], [u'if we', 1.0], [u'that he was', 1.0], [u'a black', 1.0], [u'of a man', 1.0], [u'me there', 1.0], [u'closed the', 1.0], [u'at me', 1.0], [u'took out', 0.36666666666666664], [u'in front', 1.0], [u'sherlock holmes was', 1.0], [u'you it', 1.0], [u'you in', 1.0], [u'to know what', 1.0], [u'of the hall', 1.0], [u'say so', 1.0], [u'and at the', 1.0], [u'at my', 1.0], [u'we both', 1.0], [u'is i', 1.0], [u'reason to', 1.0], [u'you we', 1.0], [u'little too', 0.36666666666666664], [u'the scene of', 1.0], [u'it was quite', 1.0], [u'to me', 1.0], [u'and lay', 1.0], [u'if you will', 1.0], [u'that i', 1.0], [u'that i could', 1.0], [u'was standing', 0.36666666666666664], [u'me that i', 1.0], [u'that a', 1.0], [u'see a', 1.0], [u'like that', 1.0], [u'do you think that', 0.80000000000000004], [u'the end of', 1.0], [u'from one to the other', 0.20000000000000001], [u'it is quite', 1.0], [u'so he', 1.0], [u'all day', 1.0], [u'i can not', 1.0], [u'me have', 1.0], [u'go out', 1.0], [u'my mother', 0.36666666666666664], [u'i had', 1.0], [u'leave it', 1.0], [u'see it', 1.0], [u'i should have', 1.0], [u'man as', 1.0], [u'me the', 1.0], [u'he saw', 1.0], [u'this is a', 1.0], [u'way of', 1.0], [u'for an instant', 1.0], [u'at all', 1.0], [u'nothing else', 0.26666666666666666], [u'he might', 1.0], [u'and her', 1.0], [u'the streets', 0.36666666666666664], [u'down at', 1.0], [u'the mystery', 1.0], [u'may be', 1.0], [u'look at', 1.0], [u'let the', 1.0], [u'is true', 1.0], [u'at her', 1.0], [u'but there', 1.0], [u'for help', 0.36666666666666664], [u'you then', 1.0], [u'there were no', 1.0], [u'which we', 1.0], [u'across the', 1.0], [u'said holmes laughing', 0.20000000000000001], [u'in an', 1.0], [u'pounds a', 1.0], [u'who would', 1.0], [u'see him', 1.0], [u'the lock', 1.0], [u'have heard of', 1.0], [u'i thought that', 1.0], [u'within a', 1.0], [u'about it', 1.0], [u'the envelope', 1.0], [u'me from', 1.0], [u'it had', 1.0], [u'a better', 1.0], [u'and i have', 1.0], [u'he have', 1.0], [u'glad to', 0.46666666666666662], [u'her mind', 1.0], [u'and no', 1.0], [u'our client', 0.26666666666666666], [u'say that', 1.0], [u'on the right', 1.0], [u'and two', 1.0], [u'as i', 1.0], [u'the alarm', 0.36666666666666664], [u'whether the', 1.0], [u'should like', 0.36666666666666664], [u'the alpha', 0.36666666666666664], [u'came back', 0.36666666666666664], [u'the stable lane', 0.36666666666666664], [u'in some', 1.0], [u'as possible', 1.0], [u'returned to', 1.0], [u'what are', 1.0], [u'of them', 1.0], [u'she saw', 0.36666666666666664], [u'on which', 1.0], [u'is just', 1.0], [u'and your', 1.0], [u'of her', 1.0], [u'do i', 1.0], [u'do then', 1.0], [u'the address', 1.0], [u'away from', 0.36666666666666664], [u'come back', 0.36666666666666664], [u'but as', 1.0], [u'front of the', 1.0], [u'the sideboard', 0.36666666666666664], [u'he looked', 1.0], [u'day after', 0.36666666666666664], [u'over a', 1.0], [u'what you', 1.0], [u'not have', 1.0], [u'man with', 1.0], [u'of london', 1.0], [u'it was', 1.0], [u'a line', 1.0], [u'is it', 1.0], [u'with this', 1.0], [u'had never', 1.0], [u'though the', 1.0], [u'of having', 1.0], [u'as his', 1.0], [u'it said', 1.0], [u'confess that', 0.36666666666666664], [u'the windows', 1.0], [u'found ourselves', 0.066666666666666666], [u'should i', 1.0], [u'and as i', 1.0], [u'the old', 1.0], [u'has been', 1.0], [u'one or', 1.0], [u'out of', 1.0], [u'the bedroom', 1.0], [u'in the direction of the', 0.80000000000000004], [u'felt that', 0.36666666666666664], [u'baker street', 0.066666666666666666], [u'though i', 1.0], [u'have told', 0.36666666666666664], [u'the scene', 1.0], [u'you find', 1.0], [u'the stair', 1.0], [u'no sign of', 1.0], [u'i beg that you will', 0.80000000000000004], [u'the bell', 1.0], [u'whom he', 1.0], [u'but it is', 1.0], [u'the banker', 0.59999999999999998], [u'was in the', 1.0], [u'him and', 1.0], [u'his son', 1.0], [u'his right', 1.0], [u'hand and', 1.0], [u'would be a', 1.0], [u'a year', 1.0], [u'to your', 1.0], [u'no it', 1.0], [u'if it', 1.0], [u'with it', 1.0], [u'first and', 1.0], [u'i think watson that', 1.0], [u'me so', 1.0], [u'thought it', 1.0], [u'a strange', 1.0], [u'will do', 1.0], [u'and one', 1.0], [u'morning of', 1.0], [u'make a', 1.0], [u'to put', 1.0], [u'and a', 1.0], [u'would not be', 1.0], [u'to do with', 1.0], [u'the first', 1.0], [u'the boscombe', 1.0], [u'let me have', 1.0], [u'so it', 1.0], [u'the next', 1.0], [u'he has been', 1.0], [u'gone to', 1.0], [u'an old', 1.0], [u'me and i', 1.0], [u'it is possible', 1.0], [u'made my', 1.0], [u'his wife', 1.0], [u'i have a', 1.0], [u'she was', 1.0], [u'which we had', 1.0], [u'there was nothing', 0.80000000000000004], [u'say that i', 1.0], [u'have not', 1.0], [u'to show', 1.0], [u'years and', 1.0], [u'that i might', 1.0], [u'it was in', 1.0], [u'you not', 1.0], [u'it be', 1.0], [u'to see that', 1.0], [u'her own', 1.0], [u'and there is', 1.0], [u'up from', 1.0], [u'i remember', 1.0], [u'went into', 0.36666666666666664], [u'long thin', 0.20000000000000001], [u'that there was', 1.0], [u'the cab', 1.0], [u'only one', 1.0], [u'waiting for', 0.36666666666666664], [u'i am sorry', 1.0], [u'the matter up', 1.0], [u'from what', 1.0], [u'going on', 1.0], [u'when he was', 1.0], [u'traces of', 0.36666666666666664], [u'thank you', 0.36666666666666664], [u'who had been', 1.0], [u'heard of you', 1.0], [u'it is', 1.0], [u'was all', 1.0], [u'how you', 1.0], [u'have it', 1.0], [u'but you', 1.0], [u'at the other', 1.0], [u'of the morning', 1.0], [u'in their', 1.0], [u'did i', 1.0], [u'by a', 1.0], [u'there can be', 0.59999999999999998], [u'there was', 1.0], [u'be no', 1.0], [u'instead of', 0.36666666666666664], [u'as to', 1.0], [u'from one to the', 1.0], [u'glimpse of', 0.36666666666666664], [u'and which', 1.0], [u'is nothing', 1.0], [u'beg that', 1.0], [u'the middle', 1.0], [u'holmes had', 1.0], [u'on a', 1.0], [u'very good', 0.59999999999999998], [u'what do you', 0.80000000000000004], [u'least a', 1.0], [u'why did', 0.36666666666666664], [u'you but', 1.0], [u'the lawn', 0.36666666666666664], [u'me for', 1.0], [u'when i saw', 1.0], [u'from one', 1.0], [u'think you', 1.0], [u'there is no', 1.0], [u'in her', 1.0], [u'and for', 1.0], [u'to believe', 1.0], [u'the other', 1.0], [u'to her', 1.0], [u'of stoke moran', 0.36666666666666664], [u'and we shall', 1.0], [u'but that', 1.0], [u'the snow', 0.36666666666666664], [u'sir i', 1.0], [u'a cold', 1.0], [u'and we were', 1.0], [u'the loss', 0.59999999999999998], [u'ceased to', 0.36666666666666664], [u'having been', 0.36666666666666664], [u'think that', 1.0], [u'again and', 1.0], [u'said sherlock', 0.36666666666666664], [u'can be', 1.0], [u'well to', 1.0], [u'window and', 1.0], [u'all over', 1.0], [u'round to', 1.0], [u'orange pips', 0.0], [u'him to', 1.0], [u'and looked', 1.0], [u'is now', 1.0], [u'he was', 1.0], [u'that in', 1.0], [u'be some', 1.0], [u'well he', 1.0], [u'out his', 1.0], [u'the box', 1.0], [u'from his', 1.0], [u'a small', 1.0], [u'the presence', 1.0], [u'to me to be', 1.0], [u'am not', 1.0], [u'from him', 1.0], [u'my attention', 0.36666666666666664], [u'were to be', 1.0], [u'or the', 1.0], [u'but was', 1.0], [u'the hall', 1.0], [u'hands and', 1.0], [u'the matter', 1.0], [u'is possible', 1.0], [u'with them', 1.0], [u'boscombe pool', 0.0], [u'himself down', 0.36666666666666664], [u'than that', 1.0], [u'so as to', 1.0], [u'he went', 1.0], [u'confess that i', 1.0], [u'examination of the', 1.0], [u'yes and', 1.0], [u'as it was', 1.0], [u'appears to', 0.36666666666666664], [u'to the', 1.0], [u'and my', 1.0], [u'the machine', 1.0], [u'he stood', 1.0], [u'the stairs', 1.0], [u'course i', 1.0], [u'away and', 1.0], [u'went to the', 1.0], [u'but he is', 1.0], [u'i am', 1.0], [u'the key', 1.0], [u'go to', 1.0], [u'well that', 1.0], [u'ago and', 1.0], [u'the case of', 1.0], [u'man to', 1.0], [u'clear that', 1.0], [u'the whole', 1.0], [u'into his', 1.0], [u'all my', 1.0], [u'the garden', 1.0], [u'you say', 1.0], [u'the disappearance', 0.36666666666666664], [u'i have seen', 1.0], [u'is a very', 1.0], [u'sight of', 1.0], [u'it seemed to', 1.0], [u'had heard', 1.0], [u'for her', 1.0], [u'it may', 1.0], [u'the thing', 1.0], [u'her husband', 0.26666666666666666], [u'would have been', 1.0], [u'not only', 1.0], [u'in silence', 1.0], [u'the other hand', 1.0], [u'are going', 0.36666666666666664], [u'his house', 1.0], [u'than the', 1.0], [u'came to', 1.0], [u'there he', 1.0], [u'of the coronet', 1.0], [u'have my', 1.0], [u'between two', 0.36666666666666664], [u'are the', 1.0], [u'back and', 1.0], [u'who was', 1.0], [u'and there', 1.0], [u'before the', 1.0], [u'a man', 1.0], [u'it all', 1.0], [u'then and', 1.0], [u'is very', 1.0], [u'in the same', 1.0], [u'in these', 1.0], [u'as i understand', 1.0], [u'street and', 1.0], [u'the young', 1.0], [u'until the', 1.0], [u'it you', 1.0], [u'to me as', 1.0], [u'his arms', 0.36666666666666664], [u'and so', 1.0], [u'my dear fellow', 0.26666666666666666], [u'sign of', 1.0], [u'that she', 1.0], [u'his lips', 0.36666666666666664], [u'the photograph', 1.0], [u'to give', 1.0], [u'and it was', 1.0], [u'have heard', 1.0], [u'amid the', 1.0], [u'the of', 1.0], [u'use of', 1.0], [u'made me', 1.0], [u'one of the most', 0.40000000000000002], [u'the little', 1.0], [u'into the room', 0.59999999999999998], [u'the time that', 1.0], [u'my friend', 1.0], [u'number of', 0.36666666666666664], [u'the one', 1.0], [u'to which', 1.0], [u'he had been', 1.0], [u'nature of the', 1.0], [u'years ago', 0.066666666666666666], [u'i confess', 1.0], [u'are a', 1.0], [u'he the', 1.0], [u'i shall be', 1.0], [u'state of', 1.0], [u'that for', 1.0], [u'here he', 1.0], [u'as long as', 0.59999999999999998], [u'the horse', 1.0], [u'on either side', 0.59999999999999998], [u'had a', 1.0], [u'which was', 1.0], [u'which are', 1.0], [u'hair and', 1.0], [u'had i', 1.0], [u'the girl', 1.0], [u'has been a', 1.0], [u'the side', 1.0], [u'the direction of the', 1.0], [u'why should', 0.36666666666666664], [u'there came', 1.0], [u'that it', 1.0], [u'a rat', 1.0], [u'the three', 1.0], [u'good enough to', 1.0], [u'on the', 1.0], [u'way in', 1.0], [u'that if', 1.0], [u'the paper', 1.0], [u'for a', 1.0], [u'to tell', 1.0], [u'with the', 1.0], [u'the and', 1.0], [u'all this', 1.0], [u'upon me', 1.0], [u'holmes with', 1.0], [u'upon my', 1.0], [u'be so', 1.0], [u'or two', 1.0], [u'out of my', 1.0], [u'have one', 1.0], [u'it has', 1.0], [u'in your', 1.0], [u'in spite of the', 1.0], [u'the end', 1.0], [u'i know', 1.0], [u'was an', 1.0], [u'sat in', 1.0], [u'it up and', 1.0], [u'her to', 1.0], [u'was at', 1.0], [u'but how', 1.0], [u'known to', 1.0], [u'was as', 1.0], [u'scotland yard', 0.0], [u'which would', 1.0], [u'friend sherlock holmes', 0.36666666666666664], [u'against him', 0.36666666666666664], [u'open the door', 0.59999999999999998], [u'see how', 1.0], [u'before us', 1.0], [u'it then', 1.0], [u'have no', 1.0], [u'had written', 0.36666666666666664], [u'you and your', 1.0], [u'to speak', 1.0], [u'my boy', 0.36666666666666664], [u'the third', 1.0], [u'pair of', 0.36666666666666664], [u'at baker street', 0.46666666666666662], [u'happy to', 0.59999999999999998], [u'boscombe valley', 0.0], [u'at the sight of', 0.80000000000000004], [u'said he and', 1.0], [u'it was a', 1.0], [u'you holmes', 1.0], [u'it upon the', 1.0], [u'the top', 1.0], [u'door which', 1.0], [u'i take', 1.0], [u'the two', 1.0], [u'as much as', 1.0], [u'man and', 1.0], [u'and ran', 1.0], [u'from the room', 1.0], [u'said my', 1.0], [u'have the', 1.0], [u'at him', 1.0], [u'as to the', 1.0], [u'the lamp and', 1.0], [u'case of', 1.0], [u'of light', 1.0], [u'he had a', 1.0], [u'a narrow', 1.0], [u'her hands', 1.0], [u'spite of the', 1.0], [u'paper and', 1.0], [u'come with', 1.0], [u'behind him', 0.36666666666666664], [u'asked to', 1.0], [u'had gone', 0.36666666666666664], [u'i had no', 1.0], [u'do what', 1.0], [u'in my', 1.0], [u'might have been', 1.0], [u'mind and', 1.0], [u'of us', 1.0], [u'end of the', 1.0], [u'which might', 1.0], [u'and in the', 1.0], [u'it was the', 1.0], [u'ready to', 1.0], [u'feeling of', 0.36666666666666664], [u'matter to', 1.0], [u'would do', 1.0], [u'as you', 1.0], [u'for two', 1.0], [u'the light of', 1.0], [u'we shall see', 0.80000000000000004], [u'what do you think', 0.40000000000000002], [u'in upon', 1.0], [u'not go', 1.0], [u'who is', 1.0], [u'out in', 1.0], [u'you give', 1.0], [u'it seemed to me', 1.0], [u'fear that', 0.46666666666666662], [u'with such', 1.0], [u'in my mind', 1.0], [u'and would', 1.0], [u'me my', 1.0], [u'i confess that', 1.0], [u'i am not', 1.0], [u'and i should', 1.0], [u'be in the', 1.0], [u'the missing', 0.36666666666666664], [u'some of the', 1.0], [u'that they', 1.0], [u'the use', 1.0], [u'well it', 1.0], [u'under the', 1.0], [u'sat down', 0.36666666666666664], [u'appeared to', 1.0], [u'about a', 1.0], [u'you did not', 1.0], [u'which to', 1.0], [u'this way', 1.0], [u'him into', 1.0], [u'this was', 1.0], [u'them to', 1.0], [u'make it', 1.0], [u'is more', 1.0], [u'seemed to be', 1.0], [u'at his', 1.0], [u'a word', 1.0], [u'went to', 1.0], [u'was indeed', 1.0], [u'here it', 1.0], [u'here is', 1.0], [u'here in', 1.0], [u'had no', 1.0], [u'very well', 1.0], [u'as i have', 1.0], [u'upon the', 1.0], [u'be happy to', 1.0], [u'pray take', 0.26666666666666666], [u'an end', 1.0], [u'is an', 1.0], [u'or a', 1.0], [u'indeed i', 1.0], [u'corner of', 1.0], [u'signs of', 0.36666666666666664], [u'i suppose', 1.0], [u'side of the', 1.0], [u'to look', 1.0], [u'was one', 1.0], [u'from his chair', 1.0], [u'something of', 1.0], [u'the geese', 1.0], [u'a heavy', 1.0], [u'so you', 1.0], [u'thought that', 1.0], [u'man in', 1.0], [u'upon a', 1.0], [u'the evening', 1.0], [u'his whole', 0.46666666666666662], [u'come at', 1.0], [u'of mine', 1.0], [u'reference to', 0.36666666666666664], [u'the goose', 1.0], [u'shall see', 0.59999999999999998], [u'and with', 1.0], [u'the facts', 1.0], [u'there in', 1.0], [u'for that', 1.0], [u'young man', 0.36666666666666664], [u'to me to', 1.0], [u'above all', 0.36666666666666664], [u'then suddenly', 0.36666666666666664], [u'round the', 1.0], [u'watson i', 1.0], [u'last night', 0.26666666666666666], [u'the case', 1.0], [u'you will find', 1.0], [u'the prisoner', 0.36666666666666664], [u'her face', 1.0], [u'into your', 1.0], [u'direction of the', 1.0], [u'then there', 1.0], [u'a dozen', 1.0], [u'upon him', 1.0], [u'to one', 1.0], [u'upon it', 1.0], [u'one or two', 0.59999999999999998], [u'away from the', 1.0], [u'for example', 0.36666666666666664], [u'there has', 1.0], [u'matter i', 1.0], [u'my story', 0.36666666666666664], [u'which the', 1.0], [u'a common', 1.0], [u'could have', 1.0], [u'i was not', 1.0], [u'holmes as', 1.0], [u'it with', 1.0], [u'the moment', 1.0], [u'from london', 0.36666666666666664], [u'we can', 1.0], [u'this case', 0.59999999999999998], [u'the other side', 1.0], [u'be the', 1.0], [u'would not', 1.0], [u'my uncle', 0.36666666666666664], [u'adventure of', 1.0], [u'you are', 1.0], [u'not the', 1.0], [u'at one', 1.0], [u'down and', 1.0], [u'before you', 1.0], [u'me that', 1.0], [u'i left', 1.0], [u'now the', 1.0], [u'disappearance of', 0.36666666666666664], [u'i beg that', 1.0], [u'come upon', 1.0], [u'his death', 0.36666666666666664], [u'how did', 0.36666666666666664], [u'the idea', 1.0], [u'it from', 1.0], [u'are in', 1.0], [u'and i had', 1.0], [u'man with a', 1.0], [u'doubt that', 1.0], [u'that it is', 1.0], [u'we could', 1.0], [u'to me i', 1.0], [u'you wish', 1.0], [u'what he', 1.0], [u'them i', 1.0], [u'dear young', 0.26666666666666666], [u'father was', 1.0], [u'irene adler', 0.0], [u'and found', 1.0], [u'i found that', 1.0], [u'would give', 0.36666666666666664], [u'on earth', 0.40000000000000002], [u'can hardly', 0.26666666666666666], [u'laid out', 0.36666666666666664], [u'not think that', 1.0], [u'that he', 1.0], [u'be a', 1.0], [u'take the', 1.0], [u'would take', 0.36666666666666664], [u'on either', 1.0], [u'that when', 1.0], [u'when she', 1.0], [u'back in his chair', 0.20000000000000001], [u'i looked', 1.0], [u'day and', 1.0], [u'i found', 1.0], [u'there is', 1.0], [u'about the', 1.0], [u'with some', 1.0], [u'to be the', 1.0], [u'by the', 1.0], [u'possible that', 1.0], [u'of one of', 1.0], [u'air of a', 1.0], [u'over it', 1.0], [u'do it', 1.0], [u'that no', 1.0], [u'what a', 1.0], [u'let me', 1.0], [u'i beg that you', 1.0], [u'what i', 1.0], [u'in the case', 1.0], [u'a most', 1.0], [u'but one', 1.0], [u'of the', 1.0], [u'in connection', 0.36666666666666664], [u'it seemed to me that', 0.80000000000000004], [u'glanced at', 1.0], [u'over her', 1.0], [u'front of', 1.0], [u'what did', 0.59999999999999998], [u'and finally', 0.36666666666666664], [u'found myself', 0.26666666666666666], [u'think i', 1.0], [u'it is the', 1.0], [u'be happy', 0.36666666666666664], [u'interested in', 0.36666666666666664], [u'he spoke', 1.0], [u'until we', 1.0], [u'object of', 0.36666666666666664], [u'the opium', 0.36666666666666664], [u'brought in', 1.0], [u'in the other', 1.0], [u'to him', 1.0], [u'i can', 1.0], [u'you had', 1.0], [u'as to what', 1.0], [u'said that', 1.0], [u'to his', 1.0], [u'in the', 1.0], [u'can do', 1.0], [u'my god', 0.36666666666666664], [u'us to', 1.0], [u'some years', 0.36666666666666664], [u'there would', 1.0], [u'of such', 1.0], [u'is my', 1.0], [u'to examine', 0.59999999999999998], [u'it were', 1.0], [u'what did you', 1.0], [u'i should like to', 1.0], [u'to raise', 1.0], [u'that it would', 1.0], [u'out to', 1.0], [u'the lane', 1.0], [u'mary sutherland', 0.0], [u'three of', 1.0], [u'not to', 1.0], [u'too much', 0.26666666666666666], [u'entered the', 1.0], [u'for he', 1.0], [u'a low', 1.0], [u'may have', 1.0], [u'at my companion', 1.0], [u'it on', 1.0], [u'your case', 0.36666666666666664], [u'well you', 1.0], [u'there were', 1.0], [u'what can', 1.0], [u'i threw', 1.0], [u'which i had', 1.0], [u'i did', 1.0], [u'had hardly', 0.36666666666666664], [u'my father', 1.0], [u'not a', 1.0], [u'to let', 1.0], [u'a good deal', 1.0], [u'why did you', 1.0], [u'so many', 0.36666666666666664], [u'i beg', 1.0], [u'to hear', 1.0], [u'standing in the', 1.0], [u'for their', 1.0], [u'was something', 1.0], [u'it is very', 1.0], [u'i told', 1.0], [u'however was', 1.0], [u'what to', 1.0], [u'i am afraid', 1.0], [u'the shutters', 0.36666666666666664], [u'will find it', 1.0], [u'a man who is', 1.0], [u'all our', 1.0], [u'to think', 1.0], [u'armchair and', 0.36666666666666664], [u'my wife', 0.36666666666666664], [u'matter of', 1.0], [u'took a', 1.0], [u'the young lady', 1.0], [u'those of', 1.0], [u'course of', 1.0], [u'which my', 1.0], [u'can get', 0.36666666666666664], [u'at it', 1.0], [u'not say', 1.0], [u'the money', 1.0], [u'me on', 1.0], [u'the contrary', 0.36666666666666664], [u'was there', 1.0], [u'the most', 1.0], [u'swandam lane', 0.0], [u'and you', 1.0], [u'as long', 1.0], [u'had my', 1.0], [u'an hour', 0.59999999999999998], [u'details which', 0.36666666666666664], [u'has come', 0.36666666666666664], [u'and i will', 1.0], [u'that they were', 1.0], [u'a look', 1.0], [u'my dear', 0.36666666666666664], [u'of one of the', 1.0], [u'will have', 1.0], [u'to see the', 1.0], [u'this fellow', 0.36666666666666664], [u'of the sort', 1.0], [u'door and', 1.0], [u'where you', 1.0], [u'i call', 1.0], [u'me a', 1.0], [u'seen the', 1.0], [u'be more', 1.0], [u'me i', 1.0], [u'then i', 1.0], [u'my hair', 1.0], [u'the very', 1.0], [u'matter up', 1.0], [u'that there', 1.0], [u'asked holmes', 0.36666666666666664], [u'that he had', 1.0], [u'the lady', 1.0], [u'i have', 1.0], [u'that of', 1.0], [u'and when', 1.0], [u'side and', 1.0], [u'i fancy', 1.0], [u'sound of', 1.0], [u'a cab', 1.0], [u'but she', 1.0], [u'of paper', 1.0], [u'so and', 1.0], [u'one day', 1.0], [u'a goose', 1.0], [u'much as', 1.0], [u'for any', 1.0], [u'knew that', 1.0], [u'not think', 1.0], [u'a huge', 1.0], [u'before we', 1.0], [u'there was a', 1.0], [u'own little', 1.0], [u'i would not', 1.0], [u'and saw', 1.0], [u'you know', 1.0], [u'the advertisement', 1.0], [u'of bohemia', 0.36666666666666664], [u'and that the', 1.0], [u'a number', 1.0], [u'behind me', 1.0], [u'if the', 1.0], [u'i have heard', 1.0], [u'said he i', 1.0], [u'and let', 1.0], [u'should be', 1.0], [u'should like to', 1.0], [u'and i', 1.0], [u'the stable', 1.0], [u'remarked the', 1.0], [u'chair with', 1.0], [u'one side', 1.0], [u'i do not', 1.0], [u'to have', 1.0], [u'head of', 1.0], [u'here it is', 1.0], [u'my house', 1.0], [u'his chair with', 1.0], [u'holmes you', 1.0], [u'a cry', 1.0], [u'quite a', 1.0], [u'the table', 1.0], [u'days of', 1.0], [u'you you', 1.0], [u'that miss', 1.0], [u'of it', 1.0], [u'the trees', 0.36666666666666664], [u'adventure of the', 1.0], [u'see what', 1.0], [u'is no', 1.0], [u'do you think', 0.59999999999999998], [u'an instant', 0.59999999999999998], [u'is a', 1.0], [u'myself in', 1.0], [u'that she was', 1.0], [u'it was obvious', 1.0], [u'i heard the', 1.0], [u'was but', 1.0], [u'he answered', 1.0], [u'could see that', 1.0], [u'case it', 1.0], [u'him as', 1.0], [u'it upon', 1.0], [u'him at', 1.0], [u'some time', 0.36666666666666664], [u'will you', 1.0], [u'into my', 1.0], [u'what is', 1.0], [u'it might be', 1.0], [u'on to', 1.0], [u'the floor', 1.0], [u'what it', 1.0], [u'to any', 1.0], [u'to and', 1.0], [u'was in', 1.0], [u'right away', 0.36666666666666664], [u'one hand', 1.0], [u'the inspector', 1.0], [u'stoke moran', 0.0], [u'you remember', 0.36666666666666664], [u'thought of the', 1.0], [u'then to', 1.0], [u'to say', 1.0], [u'the fact', 1.0], [u'sit down', 0.26666666666666666], [u'the greatest', 0.36666666666666664], [u'a pair', 1.0], [u'a considerable', 1.0], [u'it is a', 1.0], [u'his chair and', 1.0], [u'the daughter', 1.0], [u'sheet of', 0.36666666666666664], [u'what was', 1.0], [u'out of his', 1.0], [u'a tall', 1.0], [u'you said', 1.0], [u'like the', 1.0], [u'were all', 1.0], [u'father and', 1.0], [u'that i shall', 1.0], [u'seemed to me', 1.0], [u'but i', 1.0], [u'there must', 1.0], [u'time and', 1.0], [u'anything which', 0.36666666666666664], [u'me at', 1.0], [u'in the morning', 1.0], [u'far from', 0.36666666666666664], [u'him for', 1.0], [u'might be a', 1.0], [u'can only', 0.36666666666666664], [u'and made', 1.0], [u'however that', 1.0], [u'a more', 1.0], [u'on the other hand', 0.20000000000000001], [u'him by', 1.0], [u'i said', 1.0], [u'made a', 1.0], [u'then the', 1.0], [u'i was a', 1.0], [u'part of the', 1.0], [u'of stoke', 0.36666666666666664], [u'a couple', 1.0], [u'and by', 1.0], [u'in such', 1.0], [u'tell me', 1.0], [u'the matter i', 1.0], [u'his eye', 1.0], [u'with my', 1.0], [u'all was', 1.0], [u'would have', 1.0], [u'a pair of', 1.0], [u'but i have', 1.0], [u'how could', 1.0], [u'his way', 1.0], [u'face and', 1.0], [u'the colonel', 1.0], [u'never to', 1.0], [u'he sat', 1.0], [u'with me', 1.0], [u'your son', 1.0], [u'of fire', 1.0], [u'in connection with', 1.0], [u'he did', 1.0], [u'the boscombe pool', 0.36666666666666664], [u'he put', 1.0], [u'tell me what', 1.0], [u'it for', 1.0], [u'have done', 0.36666666666666664], [u'that we should', 1.0], [u'it out', 1.0], [u'up and', 1.0], [u'he had', 1.0], [u'this is my', 1.0], [u'what has', 1.0], [u'who could', 1.0], [u'i believe', 1.0], [u'could you', 1.0], [u'to think of', 1.0], [u'you will', 1.0], [u'am sure', 0.59999999999999998], [u'one of them', 0.80000000000000004], [u'and that he', 1.0], [u'i have done', 1.0], [u'because i', 1.0], [u'when my', 1.0], [u'is really', 1.0], [u'holmes when', 1.0], [u'said he', 1.0], [u'me as', 1.0], [u'half an hour', 0.0], [u'saw him', 0.36666666666666664], [u'no sign', 0.80000000000000004], [u'in that', 1.0], [u'the strange', 1.0], [u'of scotland yard', 0.36666666666666664], [u'was no', 1.0], [u'had ever', 1.0], [u'ask you', 1.0], [u'tell you', 1.0], [u'by my', 1.0], [u'the corner of', 1.0], [u'left the', 1.0], [u'up my', 1.0], [u'which i have', 1.0], [u'in the matter', 1.0], [u'king of', 1.0], [u'way to', 1.0], [u'what had', 1.0], [u'out i', 1.0], [u'i do', 1.0], [u'not very', 1.0], [u'that he has', 1.0], [u'out a', 1.0], [u'rather than', 0.36666666666666664], [u'come to', 1.0], [u'are all', 1.0], [u'have just', 1.0], [u'that you', 1.0], [u'that we have', 1.0], [u'i am sure', 1.0], [u'was only', 1.0], [u'that and', 1.0], [u'which may', 1.0], [u'from your', 1.0], [u'from home', 0.36666666666666664], [u'and of the', 1.0], [u'my stepfather', 0.36666666666666664], [u'few words', 0.26666666666666666], [u'me but', 1.0], [u'and from', 1.0], [u'corner of the', 1.0], [u'back to', 1.0], [u'god help', 0.066666666666666666], [u'a man with', 1.0], [u'i do not know', 1.0], [u'sherlock holmes sat', 0.26666666666666666], [u'it is no', 1.0], [u'we shall soon', 0.26666666666666666], [u'upon the table and', 1.0], [u'duncan ross', 0.0], [u'if i', 1.0], [u'as you may', 1.0], [u'as ever', 1.0], [u'appeared to be', 0.80000000000000004], [u'he drew', 1.0], [u'to my', 1.0], [u'neville clair', 0.066666666666666666], [u'as he spoke', 0.59999999999999998], [u'the coroner', 1.0], [u'cried the', 1.0], [u'there is the', 1.0], [u'the coronet', 1.0], [u'he has', 1.0], [u'the top of', 1.0], [u'i ask', 1.0], [u'found that', 1.0], [u'a door', 1.0], [u'back into', 0.36666666666666664], [u'is still', 1.0], [u'when you', 1.0], [u'at the door and', 1.0], [u'be seen', 1.0], [u'get away', 0.36666666666666664], [u'am afraid', 0.066666666666666666], [u'with her', 1.0], [u'a few', 1.0], [u'is all', 1.0], [u'we heard the', 1.0], [u'a moment', 1.0], [u'whom you', 0.36666666666666664], [u'and gave', 1.0], [u'before he', 1.0], [u'listen to', 1.0], [u'her in', 1.0], [u'how to', 1.0], [u'i got', 1.0], [u'one which', 1.0], [u'went out', 0.36666666666666664], [u'to you', 1.0], [u'the woman', 1.0], [u'her it', 1.0], [u'perhaps you', 1.0], [u'it is all', 1.0], [u'to what', 1.0], [u'and by the', 1.0], [u'of these', 1.0], [u'hope that', 0.59999999999999998], [u'at once', 1.0], [u'any of', 1.0], [u'the situation', 0.59999999999999998], [u'and an', 1.0], [u'find that', 1.0], [u'the instant', 1.0], [u'perhaps it', 1.0], [u'open the', 1.0], [u'and as', 1.0], [u'and at', 1.0], [u'my friend sherlock', 0.26666666666666666], [u'i think that i', 1.0], [u'of interest', 1.0], [u'is said', 1.0], [u'had seen', 0.36666666666666664], [u'the king', 1.0], [u'right hand', 0.36666666666666664], [u'it the', 1.0], [u'in the world', 1.0], [u'the bird', 1.0], [u'he never', 1.0], [u'to come', 1.0], [u'what do', 1.0], [u'the light', 1.0], [u'me with a', 1.0], [u'i have no doubt', 1.0], [u'out and', 1.0], [u'must be', 1.0], [u'is of', 1.0], [u'more than once', 0.0], [u'his chin', 1.0], [u'young lady', 0.066666666666666666], [u'now for', 1.0], [u'him when', 1.0], [u'occur to', 1.0], [u'we had', 1.0], [u'and that it', 1.0], [u'for me to', 1.0], [u'that which', 1.0], [u'with you', 1.0], [u'the of the', 1.0], [u'as they', 1.0], [u'seem to', 1.0], [u'of course', 1.0], [u'i saw him', 1.0], [u'we may', 1.0], [u'to get', 1.0], [u'all right', 1.0], [u'room in', 1.0], [u'her and', 1.0], [u'i came to', 1.0], [u'and we', 1.0], [u'showed that', 0.36666666666666664], [u'to believe that', 1.0], [u'which he', 1.0], [u'have been a', 1.0], [u'he took', 1.0], [u'are you', 1.0], [u'you no', 1.0], [u'walked slowly', 0.0], [u'were in', 1.0], [u'to call', 1.0], [u'i observe', 1.0], [u'of the day', 1.0], [u'to take', 1.0], [u'ever seen', 0.26666666666666666], [u'that there is', 1.0], [u'what it was', 1.0], [u'a young', 1.0], [u'of a very', 1.0], [u'after all', 1.0], [u'is as', 1.0], [u'a step', 1.0], [u'for the', 1.0], [u'did he', 1.0], [u'us the', 1.0], [u'could not be', 1.0], [u'long as', 1.0], [u'of what', 1.0], [u'the office', 1.0], [u'account of', 0.36666666666666664], [u'the side of', 1.0], [u'now that', 1.0], [u'down in', 1.0], [u'a chair', 1.0], [u'that it would be', 1.0], [u'our little', 1.0], [u'shall not', 1.0], [u'gave him', 0.36666666666666664], [u'the effect', 1.0], [u'could only', 0.36666666666666664], [u'yes i', 1.0], [u'opened the', 1.0], [u'but i can', 1.0], [u'at the door', 1.0], [u'can not', 1.0], [u'then at', 1.0], [u'was not', 1.0], [u'other side', 0.36666666666666664], [u'you could', 1.0], [u'yet i', 1.0], [u'of any', 1.0], [u'i confess that i', 0.80000000000000004], [u'for you', 1.0], [u'is one', 1.0], [u'not wish', 0.36666666666666664], [u'should have', 1.0], [u'the door', 1.0], [u'two years', 0.36666666666666664], [u'out at', 1.0], [u'john clay', 0.0], [u'of some', 1.0], [u'will not', 1.0], [u'you as', 1.0], [u'so far', 1.0], [u'the note', 1.0], [u'it must be', 1.0], [u'you would not', 1.0], [u'to leave', 1.0], [u'and hurried', 1.0], [u'was the', 1.0], [u'have come', 1.0], [u'home in', 1.0], [u'at baker', 1.0], [u'he walked', 1.0], [u'no one', 1.0], [u'and his', 1.0], [u'come from', 1.0], [u'a number of', 1.0], [u'be an', 1.0], [u'do not think that', 1.0], [u'they would', 0.36666666666666664], [u'was a small', 1.0], [u'to break', 1.0], [u'the bank', 1.0], [u'back to the', 1.0], [u'it is just', 1.0], [u'told me', 1.0], [u'should do', 1.0], [u'his hair', 1.0], [u'of one', 1.0], [u'be at', 1.0], [u'at the time', 1.0], [u'be found', 1.0], [u'the time of', 1.0], [u'door was', 1.0], [u'the mantelpiece', 0.36666666666666664], [u'must have been', 1.0], [u'two of', 1.0], [u'i have not', 1.0], [u'were not', 1.0], [u'my friend sherlock holmes', 0.20000000000000001], [u'a question', 1.0], [u'about to', 1.0], [u'must have', 1.0], [u'but his', 1.0], [u'this morning', 0.36666666666666664], [u'and threw', 1.0], [u'her way', 1.0], [u'return to', 1.0], [u'to that', 1.0], [u'and she', 1.0], [u'as we', 1.0], [u'his chair', 1.0], [u'him i', 1.0], [u'the old man', 1.0], [u'holmes i', 1.0], [u'not yet', 1.0], [u'in its', 1.0], [u'a young lady', 1.0], [u'beside the', 1.0], [u'the centre', 1.0], [u'of his own', 1.0], [u'see the', 1.0], [u'that she has', 1.0], [u'of course i', 1.0], [u'over my', 1.0], [u'even more', 0.36666666666666664], [u'here is the', 1.0], [u'dear young lady', 0.0], [u'in it', 1.0], [u'you come', 1.0], [u'not take', 1.0], [u'of which', 1.0], [u'were to', 1.0], [u'the point', 1.0], [u'no doubt', 0.59999999999999998], [u'the door and', 1.0], [u'to be', 1.0], [u'stretched out', 0.26666666666666666], [u'it in', 1.0], [u'a singular', 1.0], [u'the ceiling', 0.36666666666666664], [u'turned to', 1.0], [u'do not', 1.0], [u'case and', 1.0], [u'to be in', 1.0], [u'house and', 1.0], [u'and yet', 1.0], [u'as a rule', 0.40000000000000002], [u'if she', 1.0], [u'face of', 1.0], [u'i took', 1.0], [u'what i should', 1.0], [u'the son', 1.0], [u'holmes and i', 1.0], [u'and left', 1.0], [u'met him', 0.59999999999999998], [u'a quarter', 1.0], [u'she could', 1.0], [u'that that', 1.0], [u'in a', 1.0], [u'when we', 1.0], [u'we must', 1.0], [u'in such a', 1.0], [u'in any', 1.0], [u'i would have', 1.0], [u'couple of', 0.36666666666666664], [u'up in', 1.0], [u'during the', 1.0], [u'led into', 0.80000000000000004], [u'he asked', 1.0], [u'watson said he', 1.0], [u'that i can', 1.0], [u'was always', 1.0], [u'was to be', 1.0], [u'man or', 1.0], [u'into the', 1.0], [u'the bride', 1.0], [u'he was very', 1.0], [u'man of', 1.0], [u'and was', 1.0], [u'the papers', 1.0], [u'down with', 1.0], [u'familiar to', 0.36666666666666664], [u'that i was', 1.0], [u'all i', 1.0], [u'room with', 1.0], [u'seems to', 1.0], [u'but without', 0.36666666666666664], [u'find it', 1.0], [u'just as', 1.0], [u'the pavement', 0.36666666666666664], [u'a hundred', 1.0], [u'as well as', 1.0], [u'be able to', 1.0], [u'to himself', 1.0], [u'tried to', 0.36666666666666664], [u'and a few', 1.0], [u'little more', 0.36666666666666664], [u'point which', 1.0], [u'and perhaps', 1.0], [u'without a', 1.0], [u'of a man who', 1.0], [u'after the', 1.0], [u'which he had', 1.0], [u'was still', 1.0], [u'difficult to', 1.0], [u'to him and', 1.0], [u'me you', 1.0], [u'her but', 1.0], [u'examination of', 0.36666666666666664], [u'it which', 1.0], [u'watson he', 1.0], [u'would be as', 1.0], [u'i shall', 1.0], [u'more than i', 1.0], [u'you he', 1.0], [u'other hand', 0.36666666666666664], [u'fact that', 1.0], [u'shall have', 1.0], [u'jabez wilson', 0.0], [u'chance of', 0.59999999999999998], [u'which you', 1.0], [u'it over', 1.0], [u'who had', 1.0], [u'he knew', 1.0], [u'at the corner', 1.0], [u'yes he', 1.0], [u'a friend', 1.0], [u'here i', 1.0], [u'with a', 1.0], [u'the doctor', 1.0], [u'between the', 1.0], [u'it right', 1.0], [u'what then', 1.0], [u'me how', 1.0], [u'up to', 1.0], [u'at present', 1.0], [u'one of his', 1.0], [u'had ceased', 0.36666666666666664], [u'no but', 1.0], [u'his pocket', 0.36666666666666664], [u'what they', 1.0], [u'have ever', 1.0], [u'had come', 1.0], [u'that all', 1.0], [u'so as', 1.0], [u'have never', 1.0], [u'that you had', 1.0], [u'your majesty', 0.26666666666666666], [u'case i', 1.0], [u'from one to', 1.0], [u'to the house', 1.0], [u'and now', 1.0], [u'the way', 1.0], [u'seemed to me that', 1.0], [u'the twisted', 0.36666666666666664], [u'i was', 1.0], [u'but what', 1.0], [u'out in the', 1.0], [u'we should', 1.0], [u'perhaps i', 1.0], [u'took it', 1.0], [u'and came', 1.0], [u'at what', 1.0], [u'with your', 1.0], [u'time to', 1.0], [u'if they', 1.0], [u'lysander stark', 0.0], [u'all that i', 1.0], [u'now i', 1.0], [u'for i', 1.0], [u'it seems to', 1.0], [u'the wall', 1.0], [u'had given', 0.36666666666666664], [u'them it', 1.0], [u'in front of the', 1.0], [u'the nature', 1.0], [u'a gentleman', 1.0], [u'he not', 1.0], [u'upon our', 1.0], [u'but none', 0.36666666666666664], [u'it will', 1.0], [u'you are not', 1.0], [u'in the matter i', 1.0], [u'down a', 1.0], [u'and not', 1.0], [u'this he', 1.0], [u'up in his', 1.0], [u'was already', 0.36666666666666664], [u'no idea', 0.36666666666666664], [u'wished to', 0.36666666666666664], [u'to an', 1.0], [u'in the direction', 1.0], [u'found the', 1.0], [u'how he', 1.0], [u'have an', 1.0], [u'you a', 1.0], [u'air of a man', 0.20000000000000001], [u'yes sir', 0.26666666666666666], [u'it has been', 1.0], [u'came to the', 1.0], [u'that i have ever', 0.80000000000000004], [u'you i', 1.0], [u'me with', 1.0], [u'i hear', 1.0], [u'to this', 1.0], [u'who are', 1.0], [u'was that', 1.0], [u'given me', 1.0], [u'read it', 1.0], [u'has not been', 0.59999999999999998], [u'there are', 1.0], [u'have no doubt', 1.0], [u'every way', 0.36666666666666664], [u'have you', 1.0], [u'like a', 1.0], [u'him in', 1.0], [u'you want', 1.0], [u'until i', 1.0], [u'a great', 1.0], [u'for some', 1.0], [u'i was so', 1.0], [u'to ask', 1.0], [u'bed and', 1.0], [u'holmes the', 1.0], [u'i could', 1.0], [u'down to', 1.0], [u'him there', 1.0], [u'the name of', 1.0], [u'me to', 1.0], [u'what is it', 1.0], [u'over his', 1.0], [u'determined to', 0.36666666666666664], [u'which has been', 1.0], [u'could hardly', 0.36666666666666664], [u'he remarked', 1.0], [u'the hotel', 1.0], [u'presence of', 0.36666666666666664], [u'must go', 1.0], [u'know i', 1.0], [u'words of', 1.0], [u'the corner of the', 1.0], [u'of no', 1.0], [u'the i', 1.0], [u'at last', 1.0], [u'look of', 1.0], [u'was young', 1.0], [u'one to the other', 0.40000000000000002], [u'the law', 1.0], [u'to consult', 0.36666666666666664], [u'i should not', 1.0], [u'is at', 1.0], [u'i have no', 1.0], [u'down the', 1.0], [u'could it', 1.0], [u'scene of', 0.36666666666666664], [u'they are', 1.0], [u'take a', 1.0], [u'the story', 1.0], [u'then that', 1.0], [u'ten minutes', 0.066666666666666666], [u'he made', 1.0], [u'until at last', 0.20000000000000001], [u'through the', 1.0], [u'tell you that', 1.0], [u'death i', 1.0], [u'had done', 0.36666666666666664], [u'listened to', 0.36666666666666664], [u'heard of', 1.0], [u'if he had', 1.0], [u'had to', 1.0], [u'who were', 1.0], [u'much for', 1.0], [u'i trust that', 1.0], [u'and the', 1.0], [u'i thought of', 1.0], [u'do know', 1.0], [u'from it', 1.0], [u'do so', 1.0], [u'and i shall', 1.0], [u'of the matter', 1.0], [u'at the sight', 0.59999999999999998], [u'then it is', 1.0], [u'hosmer angel', 0.066666666666666666], [u'away to', 1.0], [u'the church', 1.0], [u'had occurred', 0.36666666666666664], [u'a woman', 1.0], [u'you do not', 1.0], [u'turned up', 1.0], [u'over and', 1.0], [u'watson said holmes', 0.59999999999999998], [u'to have been', 1.0], [u'had not', 1.0], [u'his hand and', 1.0], [u'find a', 1.0], [u'the league', 1.0], [u'chair and', 1.0], [u'morning and', 1.0], [u'were of', 1.0], [u'the centre of the', 1.0], [u'and were', 1.0], [u'in spite of', 1.0], [u'for my', 1.0], [u'a long', 1.0], [u'said she', 1.0], [u'i asked', 1.0], [u'eyes were', 0.36666666666666664], [u'i read', 1.0], [u'centre of the', 1.0], [u'my hands', 1.0], [u'i had been', 1.0], [u'far as', 1.0], [u'one to the', 1.0], [u'i know that', 1.0], [u'then what', 1.0], [u'took to', 1.0], [u'that he is', 1.0], [u'that night', 1.0], [u'and i am', 1.0], [u'you may', 1.0], [u'will find', 0.36666666666666664], [u'i expected', 1.0], [u'not come', 1.0], [u'i then', 1.0], [u'a little more', 1.0], [u'he turned', 1.0], [u'idea that', 0.36666666666666664], [u'why i', 1.0], [u'it was only', 1.0], [u'call upon', 0.36666666666666664], [u'account of the', 1.0], [u'time for', 1.0], [u'and examined', 0.36666666666666664], [u'that it was a', 1.0], [u'your hair', 0.36666666666666664], [u'too late', 0.066666666666666666], [u'is a man', 1.0], [u'in all', 1.0], [u'all these', 1.0], [u'that i would', 1.0], [u'be able', 1.0], [u'the blue', 1.0], [u'before and', 1.0], [u'am so', 1.0], [u'have had', 1.0], [u'shook his', 0.36666666666666664], [u'me to be', 1.0], [u'the result', 1.0], [u'the year', 1.0], [u'in this way', 1.0], [u'upon her', 1.0], [u'holmes it', 1.0], [u'obvious that', 0.36666666666666664], [u'upon the matter', 1.0], [u'to baker', 1.0], [u'there can', 1.0], [u'give you', 1.0], [u'yourself in', 1.0], [u'should not', 1.0], [u'as far as', 0.59999999999999998], [u'started off', 0.066666666666666666], [u'time of', 1.0], [u'led to the', 1.0], [u'of all', 1.0], [u'which i should', 1.0], [u'a sudden', 1.0], [u'it here', 1.0], [u'are to', 1.0], [u'nothing of the', 1.0], [u'the direction of', 1.0], [u'one of', 1.0], [u'my heart', 0.36666666666666664], [u'i never', 1.0], [u'i could not', 1.0], [u'with his eyes', 1.0], [u'is innocent', 0.36666666666666664], [u'think it', 1.0], [u'when i', 1.0], [u'and what', 1.0], [u'the room and', 1.0], [u'they were', 1.0], [u'our way', 1.0], [u'on one', 1.0], [u'such a', 1.0], [u'my life', 0.36666666666666664], [u'not help', 0.36666666666666664], [u'do with', 1.0], [u'myself i', 1.0], [u'himself in', 1.0], [u'which is a', 1.0], [u'night and', 1.0], [u'when a', 1.0], [u'on end', 1.0], [u'since you', 0.36666666666666664], [u'at first', 1.0], [u'hands in', 1.0], [u'air of', 1.0], [u'that her', 1.0], [u'the carriage', 1.0], [u'at this', 1.0], [u'the stone', 1.0], [u'that we may', 1.0], [u'lay upon', 0.36666666666666664], [u'in spite', 0.36666666666666664], [u'the countess', 0.36666666666666664], [u'that will', 1.0], [u'for what', 1.0], [u'at night', 1.0], [u'life and', 1.0], [u'where i', 1.0], [u'either side of', 1.0], [u'just a', 1.0], [u'of my', 1.0], [u'who has', 1.0], [u'to use', 1.0], [u'of the most', 1.0], [u'had not been', 1.0], [u'is not', 1.0], [u'when they', 0.36666666666666664], [u'in which', 1.0], [u'one of the', 1.0], [u'did not', 1.0], [u'i answered', 1.0], [u'no sir', 1.0], [u'it not', 1.0], [u'up the', 1.0], [u'and how', 1.0], [u'i should like', 1.0], [u'said the', 1.0], [u'seems to me', 0.80000000000000004], [u'the right', 1.0], [u'grimesby roylott', 0.0], [u'our visitor', 0.26666666666666666], [u'saw the', 1.0], [u'and that you', 1.0], [u'but it', 1.0], [u'five minutes', 0.066666666666666666], [u'i have heard of', 1.0], [u'the truth', 1.0], [u'is a little', 1.0], [u'but if', 1.0], [u'cry of', 1.0], [u'into it', 1.0], [u'had been', 1.0], [u'his words', 0.59999999999999998], [u'my room', 1.0], [u'but if you', 1.0], [u'a case', 1.0], [u'while the', 1.0], [u'himself and', 1.0], [u'do not know', 0.59999999999999998], [u'outside the', 1.0], [u'this is', 1.0], [u'you must', 1.0], [u'in a few', 1.0], [u'you mean', 1.0], [u'nature of', 1.0], [u'and to', 1.0], [u'not in', 1.0], [u'to know', 1.0], [u'of the league', 1.0], [u'was very', 1.0], [u'you would', 1.0], [u'it in the', 1.0], [u'he held', 1.0], [u'think that it is', 1.0], [u'which lay', 0.59999999999999998], [u'the centre of', 1.0], [u'the ventilator', 1.0], [u'i knew that', 1.0], [u'there is nothing', 1.0], [u'holmes it is', 1.0], [u'for us', 1.0], [u'she has', 1.0], [u'and that', 1.0], [u'know that', 1.0], [u'a good', 1.0], [u'good enough', 0.26666666666666666], [u'of making', 0.36666666666666664], [u'stable lane', 0.0], [u'the table and', 1.0], [u'i think watson', 1.0], [u'the passage', 1.0], [u'i gave', 1.0], [u'of the room', 1.0], [u'so that', 1.0], [u'a and', 1.0], [u'to do so', 1.0], [u'was my', 1.0], [u'as he', 1.0], [u'from a', 1.0], [u'lamp and', 1.0], [u'i went', 1.0], [u'this man', 1.0], [u'to tell you', 1.0], [u'his feet', 0.36666666666666664], [u'feet and', 1.0], [u'it to', 1.0], [u'happened to', 1.0], [u'my head', 1.0], [u'round and', 1.0], [u'the presence of', 1.0], [u'he cried', 1.0], [u'a man who', 1.0], [u'the nature of', 1.0], [u'had brought', 0.36666666666666664], [u'in fact', 1.0], [u'not see', 1.0], [u'who have', 1.0], [u'man who is', 1.0], [u'which i could', 1.0], [u'however i', 1.0], [u'the assizes', 0.36666666666666664], [u'sir but', 0.36666666666666664], [u'in order', 1.0], [u'enough to', 1.0], [u'i walked', 1.0], [u'i see', 1.0], [u'to some', 1.0], [u'of his', 1.0], [u'for it', 1.0], [u'but i am', 1.0], [u'of him', 1.0], [u'me that he', 1.0], [u'i felt', 1.0], [u'which had been', 1.0], [u'whether i', 1.0], [u'and now i', 1.0], [u'and let me', 1.0], [u'his eyes and', 1.0], [u'he i', 1.0], [u'then when', 1.0], [u'i heard a', 1.0], [u'have spoken', 0.36666666666666664], [u'am very', 1.0], [u'well and', 1.0], [u'holmes sat', 0.36666666666666664], [u'was about', 1.0], [u'have any', 1.0], [u'by which', 1.0], [u'have i', 1.0], [u'he might have', 1.0], [u'to see', 1.0], [u'to the police', 1.0], [u'upon his', 1.0], [u'was not a', 1.0], [u'at least', 0.80000000000000004], [u'i do not think', 1.0], [u'with us', 1.0], [u'you and', 1.0], [u'not imagine', 0.36666666666666664], [u'i had not', 1.0], [u'place and', 1.0], [u'oh yes', 0.26666666666666666], [u'it could', 1.0], [u'which have', 1.0], [u'what could', 1.0], [u'thought of', 1.0], [u'this matter', 0.59999999999999998], [u'watson that', 1.0], [u'so much', 1.0], [u'his hat', 1.0], [u'sir said', 0.36666666666666664], [u'his hand', 1.0], [u'he said', 1.0], [u'is only', 1.0], [u'away with', 1.0], [u'only just', 0.36666666666666664], [u'down upon', 1.0], [u'leave the', 1.0], [u'he opened', 1.0], [u'of the window', 1.0], [u'sherlock holmes had', 1.0], [u'that you have', 1.0], [u'while i', 1.0], [u'do you', 1.0], [u'how i', 1.0], [u'be as', 1.0], [u'have shown', 0.36666666666666664], [u'up i', 1.0], [u'into a', 1.0], [u'said he that', 1.0], [u'that i am', 1.0], [u'he must', 1.0], [u'with an', 1.0], [u'order to', 1.0], [u'the place', 1.0], [u'you the', 1.0], [u'the rest', 1.0], [u'we have', 1.0], [u'to turn', 1.0], [u'the question', 1.0], [u'would not have', 1.0], [u'the station', 1.0], [u'in the centre', 1.0], [u'a letter', 1.0], [u'to go', 1.0], [u'little problem', 0.26666666666666666], [u'passage and', 1.0], [u'as an', 1.0], [u'at me with', 1.0], [u'but he', 1.0], [u'ourselves in', 1.0], [u'have already', 0.36666666666666664], [u'the best', 1.0], [u'and also', 1.0], [u'of the house', 1.0], [u'no doubt that', 1.0], [u'but this', 1.0], [u'said holmes', 1.0], [u'the steps', 1.0], [u'found ourselves in', 0.36666666666666664], [u'the west', 1.0], [u'connection with', 0.36666666666666664], [u'with his', 1.0], [u'i made', 1.0], [u'sir george', 0.066666666666666666], [u'hardly be', 1.0], [u'ever heard', 0.36666666666666664], [u'of your', 1.0], [u'which is', 1.0], [u'have only', 1.0], [u'he said that', 1.0], [u'where he', 1.0], [u'be to', 1.0], [u'to say that', 1.0], [u'and who', 1.0], [u'can see', 1.0], [u'that the', 1.0], [u'this gentleman', 0.36666666666666664], [u'you were', 1.0], [u'if it were', 0.59999999999999998], [u'it appears', 0.36666666666666664], [u'we found', 1.0], [u'at least a', 1.0], [u'there was something', 0.59999999999999998], [u'was a man', 1.0], [u'when it', 1.0], [u'the reason', 1.0], [u'friend sherlock', 0.36666666666666664], [u'the bed', 1.0], [u'i have ever', 1.0], [u'to be a', 1.0], [u'to the other', 1.0], [u'himself to', 1.0], [u'at some', 1.0], [u'she had', 1.0], [u'a slight', 1.0], [u'a lady', 1.0], [u'of scotland', 0.36666666666666664], [u'smell of', 0.36666666666666664], [u'hat and', 1.0], [u'up to the', 1.0], [u'yes it', 1.0], [u'this i', 1.0], [u'beg that you', 0.80000000000000004], [u'were the', 1.0], [u'out into', 1.0], [u'to our', 1.0], [u'give me', 1.0], [u'that i have', 1.0], [u'as if', 1.0], [u'as it', 1.0], [u'him he', 1.0], [u'heard a', 1.0], [u'wonder that', 0.36666666666666664], [u'she is', 1.0], [u'i rushed', 1.0], [u'i met', 1.0], [u'know what i', 1.0], [u'think watson that', 1.0], [u'said he but', 1.0], [u'henry baker', 0.066666666666666666], [u'is clear', 1.0], [u'as a', 1.0], [u'is this', 1.0], [u'it is of', 1.0], [u'more than', 0.26666666666666666], [u'afraid that', 0.36666666666666664], [u'out of the', 1.0], [u'that i must', 1.0], [u'in his hand', 1.0], [u'the company', 1.0], [u'the day', 1.0], [u'its own', 0.36666666666666664], [u'you never', 1.0], [u'his father', 1.0], [u'as my', 1.0], [u'he came', 1.0], [u'shook his head', 0.0], [u'time that', 1.0], [u'at the', 1.0], [u'and this', 1.0], [u'heard it', 1.0], [u'his long', 1.0], [u'as good as', 0.80000000000000004], [u'has not', 1.0], [u'the sofa', 0.36666666666666664], [u'is your', 1.0], [u'the fire and', 1.0], [u'it it', 1.0], [u'i feel', 1.0], [u'which seemed', 0.36666666666666664], [u'at our', 1.0], [u'his head', 1.0], [u'from the', 1.0], [u'a couple of', 1.0], [u'for all', 1.0], [u'the others', 1.0], [u'with a little', 1.0], [u'upon the table', 0.59999999999999998], [u'again i', 1.0], [u'not know what', 1.0], [u'of such a', 1.0], [u'looked at', 1.0], [u'that i may', 1.0], [u'came a', 1.0], [u'the adventure', 1.0], [u'here and', 1.0], [u'the subject', 0.59999999999999998], [u'gave a', 1.0], [u'had left', 0.59999999999999998], [u'is too', 1.0], [u'it must', 1.0], [u'him with', 1.0], [u'i began', 1.0], [u'the early', 1.0], [u'it down', 1.0], [u'did you', 1.0], [u'i should', 1.0], [u'does not', 0.36666666666666664], [u'his armchair', 0.36666666666666664], [u'us that', 1.0], [u'all that', 1.0], [u'the country', 1.0], [u'can understand', 0.36666666666666664], [u'suppose that', 0.36666666666666664], [u'a rule', 0.46666666666666662], [u'cause of', 1.0], [u'know all', 1.0], [u'in and', 1.0], [u'forward and', 1.0], [u'well there', 1.0], [u'now we', 1.0], [u'i passed', 1.0], [u'up for', 1.0], [u'you deduce', 0.36666666666666664], [u'on my', 1.0], [u'miss turner', 0.066666666666666666], [u'before i', 1.0], [u'up and down the', 1.0], [u'i hope that', 1.0], [u'that it was', 1.0], [u'where we', 1.0], [u'rushed into the', 1.0], [u'centre of', 0.36666666666666664], [u'with all', 1.0], [u'side of', 1.0], [u'beside him', 0.36666666666666664], [u'will excuse', 0.26666666666666666], [u'cases which', 0.36666666666666664], [u'down to the', 1.0], [u'it as', 1.0], [u'the front', 1.0], [u'not quite', 1.0], [u'back in', 1.0], [u'i only', 1.0], [u'and that i', 1.0], [u'ought to', 1.0], [u'together and', 1.0], [u'off the', 1.0], [u'that you could', 1.0], [u'man i', 1.0], [u'so i', 1.0], [u'and even', 1.0], [u'standing in', 1.0], [u'of that', 1.0], [u'light and', 1.0], [u'that his', 1.0], [u'little of', 1.0], [u'since i', 1.0], [u'near the', 1.0], [u'about this', 1.0], [u'and glanced', 0.59999999999999998], [u'had fallen', 0.36666666666666664], [u'the time', 1.0], [u'i began to', 1.0], [u'up in the', 1.0], [u'you have', 1.0], [u'from which', 1.0], [u'of this', 1.0], [u'in the direction of', 1.0], [u'there was no', 1.0], [u'you to', 1.0], [u'the world', 1.0], [u'but after', 1.0], [u'the head', 1.0], [u'the blow', 1.0], [u'upon your', 1.0], [u'and down', 1.0], [u'was it', 1.0], [u'door of', 1.0], [u'good as', 1.0], [u'done it', 1.0], [u'of whom', 1.0], [u'in london', 1.0], [u'do nothing', 1.0], [u'him a', 1.0], [u'then you', 1.0], [u'understand that', 1.0], [u'i will', 1.0], [u'about him', 1.0], [u'as this', 1.0], [u'table and', 1.0], [u'i do know', 1.0], [u'me what', 1.0], [u'the back', 1.0], [u'the house', 1.0], [u'the adventure of the', 1.0], [u'we heard', 1.0], [u'been a', 1.0], [u'nothing in', 1.0], [u'the pool', 1.0], [u'he a', 1.0], [u'and yet i', 1.0], [u'that we', 1.0], [u'from that', 1.0], [u'the sort', 1.0], [u'there i', 1.0], [u'there a', 1.0], [u'time in', 1.0], [u'holmes that', 1.0], [u'his coat', 0.36666666666666664], [u'once more', 0.26666666666666666], [u'in the dark', 1.0], [u'and on the', 1.0], [u'and had', 1.0], [u'have seen', 0.59999999999999998], [u'the sight', 1.0], [u'was his', 1.0], [u'series of', 0.36666666666666664], [u'of events', 0.36666666666666664], [u'in england', 1.0], [u'charge of', 0.36666666666666664], [u'tell us', 1.0], [u'but the', 1.0], [u'down into the', 1.0], [u'were no', 1.0], [u'as she', 1.0], [u'of me', 1.0], [u'could not have', 1.0], [u'in his', 1.0], [u'some little', 1.0], [u'that my', 1.0], [u'of yours', 1.0], [u'down from', 1.0], [u'a large', 1.0], [u'some of', 1.0], [u'put the', 1.0], [u'which could', 1.0], [u'but we', 1.0], [u'old man', 1.0], [u'you that', 1.0], [u'but when i', 1.0], [u'he with', 1.0], [u'are very', 1.0], [u'is the', 1.0], [u'him in the', 1.0], [u'he could not', 1.0], [u'reached the', 1.0], [u'she will', 1.0], [u'beg that you will', 0.20000000000000001], [u'we shall', 1.0], [u'other was', 1.0], [u'of an', 1.0], [u'we were', 1.0], [u'that she had', 1.0], [u'i knew', 1.0], [u'a thing', 1.0], [u'there was the', 1.0], [u'was too', 1.0], [u'my companion', 0.36666666666666664], [u'that it has', 1.0], [u'are they', 1.0], [u'for there', 1.0], [u'aware that', 0.36666666666666664], [u'could do', 1.0], [u'well as', 1.0], [u'the road', 1.0], [u'came out', 1.0], [u'had just', 1.0], [u'as the', 1.0], [u'the ground', 1.0], [u'like to', 1.0], [u'i am a', 1.0], [u'is so', 1.0], [u'her that', 1.0], [u'him it', 1.0], [u'the present', 1.0], [u'less than', 0.26666666666666666], [u'direction of', 0.36666666666666664], [u'i would', 1.0], [u'i did not', 1.0], [u'and i could', 1.0], [u'and do', 1.0], [u'began to', 1.0], [u'was on', 1.0], [u'in this', 1.0], [u'shall soon', 0.26666666666666666], [u'would be', 1.0], [u'now and', 1.0], [u'the sound', 1.0], [u'dear fellow', 0.066666666666666666], [u'think that it', 1.0], [u'as far', 1.0], [u'will be', 1.0], [u'the honour', 1.0], [u'had the', 1.0], [u'at home', 1.0], [u'i called', 1.0], [u'i understand that', 1.0], [u'within a few', 0.40000000000000002], [u'was of', 1.0], [u'how did you', 1.0], [u'the gentleman', 1.0], [u'the family', 1.0], [u'what you have', 1.0], [u'open and', 1.0], [u'you said holmes', 1.0], [u'friend of', 1.0], [u'in the neighbourhood', 1.0], [u'for an', 1.0], [u'it he', 1.0], [u'it seems', 1.0], [u'and put', 1.0], [u'the wedding', 1.0], [u'go back', 1.0], [u'that there are', 1.0], [u'half an', 1.0], [u'to open', 1.0], [u'that time', 1.0], [u'i cried', 1.0], [u'much to', 1.0], [u'fear and', 1.0], [u'only a', 1.0], [u'might be', 1.0], [u'said sherlock holmes', 1.0], [u'out the', 1.0], [u'not tell', 1.0], [u'rushed into', 0.36666666666666664], [u'were at', 1.0], [u'was obvious', 0.36666666666666664], [u'i believe that', 1.0], [u'in one of', 1.0], [u'here we', 1.0], [u'to baker street', 0.36666666666666664], [u'with which', 1.0], [u'in one', 1.0], [u'difficulty in', 0.36666666666666664], [u'there is a', 1.0], [u'opened and', 1.0], [u'remarked holmes', 0.36666666666666664], [u'miss stoner', 0.066666666666666666], [u'i might', 1.0], [u'was he', 1.0], [u'has had', 1.0], [u'on his', 1.0], [u'one of those', 0.59999999999999998], [u'i was at', 1.0], [u'good deal', 0.066666666666666666], [u'and why', 1.0], [u'the official', 1.0], [u'seemed to', 1.0], [u'the copper', 1.0], [u'a matter of', 1.0], [u'think that i have', 0.80000000000000004], [u'it had been', 1.0], [u'the darkness', 1.0], [u'could see', 1.0], [u'expected to', 0.36666666666666664], [u'is what', 1.0], [u'but when', 1.0], [u'and laughed', 0.36666666666666664], [u'holmes and', 1.0], [u'we will', 1.0], [u'she would', 1.0], [u'i think', 1.0], [u'nothing of', 1.0], [u'i heard', 1.0], [u'it may be', 1.0], [u'do not think', 0.59999999999999998], [u'be very', 1.0], [u'daughter of', 0.36666666666666664], [u'you do', 1.0], [u'to bring', 1.0], [u'as good', 1.0], [u'the use of', 1.0], [u'while his', 1.0], [u'to their', 1.0], [u'clear to', 1.0], [u'and there was', 1.0], [u'i want', 1.0], [u'shall take', 0.36666666666666664], [u'no i', 1.0], [u'you will excuse', 0.36666666666666664], [u'very kind', 0.36666666666666664], [u'lay upon the', 1.0], [u'which were', 1.0], [u'the air', 1.0], [u'said i', 1.0], [u'to wait', 1.0], [u'the wood', 1.0], [u'help me', 1.0], [u'made up', 1.0], [u'you for', 1.0], [u'you might', 1.0], [u'did not know', 0.59999999999999998], [u'up with', 1.0], [u'did the', 1.0], [u'my hand', 1.0], [u'and having', 1.0], [u'it but', 1.0], [u'you how', 1.0], [u'it very', 1.0], [u'you think that', 1.0], [u'he is a', 1.0], [u'know where', 0.36666666666666664], [u'you tell', 1.0], [u'your room', 1.0], [u'my poor', 0.36666666666666664], [u'holmes as we', 1.0], [u'than his', 1.0], [u'the gems', 0.59999999999999998], [u'are so', 1.0], [u'your wife', 0.36666666666666664], [u'when he', 1.0], [u'for i have', 1.0], [u'now then', 1.0], [u'the man', 1.0], [u'the altar', 0.36666666666666664], [u'loss of', 0.36666666666666664], [u'this is the', 1.0], [u'in time', 1.0], [u'there and', 1.0], [u'his name', 1.0], [u'and has', 1.0], [u'i tell', 1.0], [u'he was in', 1.0], [u'been of', 1.0]]\n"
     ]
    }
   ],
   "source": [
    "predictions = []\n",
    "pred_data = clf.predict_proba(test_data)\n",
    "for k in range(len(test_data)):\n",
    "    predictions.append([test_phrases[k], pred_data[k][0]])\n",
    "print(predictions[:])"
   ]
  },
  {
   "cell_type": "code",
   "execution_count": null,
   "metadata": {
    "collapsed": true
   },
   "outputs": [],
   "source": []
  },
  {
   "cell_type": "code",
   "execution_count": null,
   "metadata": {
    "collapsed": true
   },
   "outputs": [],
   "source": []
  }
 ],
 "metadata": {
  "kernelspec": {
   "display_name": "Python 2",
   "language": "python",
   "name": "python2"
  },
  "language_info": {
   "codemirror_mode": {
    "name": "ipython",
    "version": 2
   },
   "file_extension": ".py",
   "mimetype": "text/x-python",
   "name": "python",
   "nbconvert_exporter": "python",
   "pygments_lexer": "ipython2",
   "version": "2.7.11"
  }
 },
 "nbformat": 4,
 "nbformat_minor": 2
}
